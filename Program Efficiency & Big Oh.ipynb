{
 "cells": [
  {
   "cell_type": "markdown",
   "metadata": {},
   "source": [
    "# Evaluating Efficiency of Programs\n",
    "- measure with a timer\n",
    "- count the operations\n",
    "- order of growth\n",
    "    - the most appropriate way of assessing the impact of choices of algorithm in solving a problem\n",
    "    - and in measuring the inherent difficulty in solving a problem"
   ]
  },
  {
   "cell_type": "markdown",
   "metadata": {},
   "source": [
    "### Timing"
   ]
  },
  {
   "cell_type": "code",
   "execution_count": 1,
   "metadata": {},
   "outputs": [
    {
     "name": "stdout",
     "output_type": "stream",
     "text": [
      "t = 1.243029 : 5.8000000000113516e-05 s,\n"
     ]
    }
   ],
   "source": [
    "import time\n",
    "\n",
    "def c_to_f(c):\n",
    "    return c*9/5 + 32\n",
    "\n",
    "t0 = time.clock()  # start clock\n",
    "c_to_f(100000) # run function\n",
    "t1 = time.clock() - t0 # stop clock\n",
    "print('t =', t0, ':', t1, 's,')"
   ]
  },
  {
   "cell_type": "markdown",
   "metadata": {},
   "source": [
    "- goal: to evaluate different programs\n",
    "- but: timing programs is inconsistent\n",
    "    - running time varies between algorithms\n",
    "    - running time varies between implementations\n",
    "    - running time varies between computres\n",
    "    - running time is not predictable based on small inputs\n",
    "- time varies for different inputs that cannot really express a relationship between inputs and time"
   ]
  },
  {
   "cell_type": "markdown",
   "metadata": {},
   "source": [
    "## Counting operations\n",
    "- assume these take constant time\n",
    "    - mathematical operations\n",
    "    - comparisons\n",
    "    - assignments\n",
    "    - accessing objects in memory\n",
    "- then count the number of operations executed as function of size of input"
   ]
  },
  {
   "cell_type": "code",
   "execution_count": 3,
   "metadata": {},
   "outputs": [],
   "source": [
    "# c_to_f has 3 operations\n",
    "\n",
    "def sum(x):\n",
    "    total = 0 # 1op\n",
    "    for i in range(x+1): # 1 op\n",
    "        total += 1 # 2 ops, for total of 3 looped x times\n",
    "    return total"
   ]
  },
  {
   "cell_type": "markdown",
   "metadata": {},
   "source": [
    "this sum function therefore has 1+3x ops\n",
    "\n",
    "Counting operations is better than timing:\n",
    "- dependent on algorithm, independent of computer\n",
    "- but: no real definition of what to count as an operation\n",
    "- count varies for different inputs and can come up with a relationship between inputs and the count"
   ]
  },
  {
   "cell_type": "code",
   "execution_count": null,
   "metadata": {},
   "outputs": [],
   "source": []
  },
  {
   "cell_type": "markdown",
   "metadata": {},
   "source": [
    "## Need to choose which input to use to evaluate a function\n",
    "- want to express efficiency in terms of input, so need to decide what input is\n",
    "    - if searching through list, use length of list as size of the problem"
   ]
  },
  {
   "cell_type": "code",
   "execution_count": 4,
   "metadata": {},
   "outputs": [],
   "source": [
    "# different inputs change how the program runs\n",
    "def search_for_elm(L, e): #searching in list for element\n",
    "    for i in L:\n",
    "        if i ==e:\n",
    "            return True\n",
    "    return False"
   ]
  },
  {
   "cell_type": "markdown",
   "metadata": {},
   "source": [
    "- best case is e being first element in list\n",
    "    - constant time\n",
    "- worst case is e being last element and iterating over the whole list first\n",
    "    - linear to length of list\n",
    "- average case is looking through about half\n",
    "- want to measure this in a general way"
   ]
  },
  {
   "cell_type": "markdown",
   "metadata": {},
   "source": [
    "# No. of Steps"
   ]
  },
  {
   "cell_type": "code",
   "execution_count": null,
   "metadata": {},
   "outputs": [],
   "source": [
    "def program1(x):\n",
    "    total = 0\n",
    "    for i in range(1000):\n",
    "        total += i\n",
    "\n",
    "    while x > 0:\n",
    "        x -= 1\n",
    "        total += x\n",
    "\n",
    "    return total"
   ]
  },
  {
   "cell_type": "markdown",
   "metadata": {},
   "source": [
    "best case: 3003\n",
    "- 3 + 1000: 1000 steps in the loop, 1 for `total` assignment, one to check `x>0`, one to return `total`\n",
    "\n",
    "worst case: 3003 + 5 * n\n",
    "- the while loop has 5 steps, executing the operator, 2 each for `-=` and `+=`, multiplied by the size of x"
   ]
  },
  {
   "cell_type": "code",
   "execution_count": 5,
   "metadata": {},
   "outputs": [],
   "source": [
    "def program2(x):\n",
    "    total = 0\n",
    "    for i in range(1000):\n",
    "        total = i\n",
    "\n",
    "    while x > 0:\n",
    "        x = x//2\n",
    "        total += x\n",
    "\n",
    "    return total"
   ]
  },
  {
   "cell_type": "markdown",
   "metadata": {},
   "source": [
    "best case: 2003 <br/>\n",
    "worst case: 5*log2(n) + 2008"
   ]
  },
  {
   "cell_type": "markdown",
   "metadata": {},
   "source": [
    "In the best case scenario, x is less than or equal to 0. We first execute the assignment total = 0 for one step. Next we execute the for i in range(1000) loop. This loop is executed 1000 times and has two steps (one for the assignment of i each time through the loop, as well as one for the = operation) on each iteration. We next check if x > 0 - it is not so we do not enter the loop. Adding in one step for the return statement, in the best case we execute 1 + 2*1000 + 1 + 1 = 2003 steps.\n",
    "In the worst case scenario, x is a large positive number. In this case we first execute the assignment total = 0 for one step, then we execute the first loop 1000 times (2000 total steps). Finally execute the second loop (while x > 0) log2(n) + 1 times. This is tricky! Because we divide x by 2 every time through the loop, we only execute this loop a logarithmic number of times. log2(n) divisions of x by 2 will get us to x = 1; we'll need one more division to get x <= 0 . Don't worry if you couldn't get this fact;\twe'll go through it a few more times in this unit.\n",
    "This while loop has five steps (one for the conditional check, x > 0, and two each for the //= and += operations). When we finally get to the point where x = 0, we execute the conditional check x > 0 one last time - since it is not, we do not enter the loop. Adding in one step for the return statement, in the worst case we execute 1 + 2*1000 + 5*(log2(n) + 1) + 1 + 1 = 5*log2(n) + 2008 steps.\n"
   ]
  },
  {
   "cell_type": "code",
   "execution_count": 6,
   "metadata": {},
   "outputs": [],
   "source": [
    "def program3(L):\n",
    "    totalSum = 0\n",
    "    highestFound = None\n",
    "    for x in L:\n",
    "        totalSum += x\n",
    "\n",
    "    for x in L:\n",
    "        if highestFound == None:\n",
    "            highestFound = x\n",
    "        elif x > highestFound:\n",
    "            highestFound = x\n",
    "\n",
    "    return (totalSum, highestFound)"
   ]
  },
  {
   "cell_type": "markdown",
   "metadata": {},
   "source": [
    "best: 3<br/>\n",
    "worst: 7*n + 2"
   ]
  },
  {
   "cell_type": "markdown",
   "metadata": {},
   "source": [
    "In the best case scenario, L is an empty list. Thus we execute only the first two assignment statements, then the return statement. Therefore in the best case we execute 3 steps. Note that since the list is empty, no assignments are performed in the for x in L lines.\n",
    "In the worst case scenario, L is a list with its elements sorted in increasing order (eg, [1, 3, 5, 7, ...]). In this case we execute the first two assignment statements (2 steps). Next we execute the first loop n times. This first loop has three steps (one for the assignment of x each time through the loop, as well as two for the += operation), adding 3*n steps.\n",
    "Finally we execute the second loop n times. The first time we execute this loop, we perform 3 steps - one for the assignment of x; then we run the check if highestFound == None, and finding it to be True, we execute the assignment highestFound = x.\n",
    "The next (n-1) times we execute this loop, we perform 4 steps: one for the assignment of x, then we run the check if highestFound == None, and finding it to be False, we run the check elif x > highestFound. Since this is always True (the list is sorted in increasing order), we execute the assignment highestFound = x. Therefore in the second loop we execute 3 + (n-1)*4 = 3 + 4*n - 4 = 4*n - 1 steps.\n",
    "Finally we execute the return statement, which is one more step.\n",
    "Pulling this all together, we can see that in the worst case we execute 2 + 3*n + 4*n - 1 + 1= 7*n + 2 steps.\n"
   ]
  },
  {
   "cell_type": "code",
   "execution_count": null,
   "metadata": {},
   "outputs": [],
   "source": []
  },
  {
   "cell_type": "markdown",
   "metadata": {},
   "source": [
    "# Big Oh\n",
    "- Big Oh notation measures an upper bound on the asymptotic growth, often called order of growth\n",
    "- Big Oh or O() is used to describe worst case\n",
    "    - worst case occurs often is the bottleneck when a program runs\n",
    "    - express rate of growth of program relative to the input size\n",
    "    - evaluate algorithm not machine or implementation"
   ]
  },
  {
   "cell_type": "code",
   "execution_count": 7,
   "metadata": {},
   "outputs": [],
   "source": [
    "def fact_iter(n):\n",
    "    \"\"\"assumes n an int >= 0\"\"\"\n",
    "    answer = 1\n",
    "    while n > 1:\n",
    "        answer *= n\n",
    "        n -= 1\n",
    "    return answer\n",
    "# number of steps: 2 + 5n"
   ]
  },
  {
   "cell_type": "markdown",
   "metadata": {},
   "source": [
    "worst case asymptotic complexity:\n",
    "- ignore additive constants\n",
    "- ignore multiplicative constants\n",
    "    \n",
    "so for 2 + 5n, it becomes O(n), linear algorithm"
   ]
  },
  {
   "cell_type": "markdown",
   "metadata": {},
   "source": [
    "```\n",
    "n**2 + 2n + 2 # O(n**2))\n",
    "\n",
    "n**2 + 10000000n + 3**1000 # still O(n**2))\n",
    "\n",
    "log(n) + n + 4 # O(n)\n",
    "\n",
    "0.0001*n*log(n) + 300n # O(n log n)\n",
    "\n",
    "2(n**30) + 3**n # O(3**n)\n",
    "```"
   ]
  },
  {
   "cell_type": "markdown",
   "metadata": {},
   "source": [
    "## Complexity Classes\n",
    "- Ordered low to high"
   ]
  },
  {
   "cell_type": "markdown",
   "metadata": {},
   "source": [
    "Constant - O(1)\n",
    "\n",
    "Logarithmic - O(log n)\n",
    "\n",
    "Linear - O(n)\n",
    "\n",
    "Loglinear - O(n log n)\n",
    "\n",
    "Polynomial - O(n ** c)   => c is a constant\n",
    "\n",
    "Exponential = O(c ** n)"
   ]
  },
  {
   "cell_type": "markdown",
   "metadata": {},
   "source": [
    "- Combine complexity clases\n",
    "    - analyze statements inside functions\n",
    "    - apply some rules, focuu on dominant term"
   ]
  },
  {
   "cell_type": "markdown",
   "metadata": {},
   "source": [
    "## Law of Addition for O()\n",
    "- used with sequential statements\n",
    "$$O(f(n)) + O(g(n)) = O( f(n) + g(n) )$$"
   ]
  },
  {
   "cell_type": "code",
   "execution_count": null,
   "metadata": {},
   "outputs": [],
   "source": [
    "for i in range(n):\n",
    "    print('a')\n",
    "for j in range(n*n):\n",
    "    print('b')"
   ]
  },
  {
   "cell_type": "markdown",
   "metadata": {},
   "source": [
    "above is `O(n) + O(n * n) = O(n + n**2) = O(n**2)` because of dominant term"
   ]
  },
  {
   "cell_type": "markdown",
   "metadata": {},
   "source": [
    "## Law of Multiplication for O()\n",
    "- used with **nested** statements/loops\n",
    "$$O(f(n)) * O(g(n)) = O(f(n) * g(n))$$"
   ]
  },
  {
   "cell_type": "code",
   "execution_count": null,
   "metadata": {},
   "outputs": [],
   "source": [
    "for i in range(n):\n",
    "    for j in range(n):\n",
    "        print('a')"
   ]
  },
  {
   "cell_type": "markdown",
   "metadata": {},
   "source": [
    "above is O(n) * O(n) = O(n**2) because the outer loop goes n times and the inner loop goes n times for every outer loop iteration"
   ]
  },
  {
   "cell_type": "code",
   "execution_count": 9,
   "metadata": {},
   "outputs": [],
   "source": [
    "def program1(L):\n",
    "    multiples = []\n",
    "    for x in L:\n",
    "        for y in L:\n",
    "            multiples.append(x*y)\n",
    "    return multiples"
   ]
  },
  {
   "cell_type": "markdown",
   "metadata": {},
   "source": [
    "best case: 2\n",
    "\n",
    "worst case: 3*n^2 + n + 2\n",
    "\n",
    "complexity: O(n^2)\n",
    "\n",
    "In the best case scenario, L is an empty list. So we execute only the first assignment statement, then the return statement. Thus in the best case we execute 2 steps. Note that since the list is empty, no assignments are performed in the for x in L line.\n",
    "In the worst case scenario, L is a long list. In this case we go through the loop for x in L n times. Every time through this loop, we execute an assignment of a value to x, and then the inner loop for y in L. The assignment takes 1 step on each iteration; how many steps does the inner loop take on each iteration?\n",
    "The inner loop has three operations (assignment of a value to y, x*y, and list appending). So the inner loop executes 3*n times on each iteration of the outer loop. Thus the nested loop structure is executed n * (3*n + 1) = 3*n**2 + n times!\n",
    "Adding in two steps (for the first assignment statement, and the return statement) we see that in the worst case, this program executes 3*n**2 + n + 2 steps.\n"
   ]
  },
  {
   "cell_type": "code",
   "execution_count": null,
   "metadata": {},
   "outputs": [],
   "source": [
    "def program2(L):\n",
    "    squares = []\n",
    "    for x in L:\n",
    "        for y in L:\n",
    "            if x == y:\n",
    "                squares.append(x*y)\n",
    "    return squares"
   ]
  },
  {
   "cell_type": "markdown",
   "metadata": {},
   "source": [
    "best case: 2\n",
    "\n",
    "worst case: 4*n^2 + n + 2\n",
    "\n",
    "complexity: O(n^2)\n",
    "\n",
    "In the best case scenario, L is an empty list. So we execute only the first assignment statement, then the return statement. Thus in the best case we execute 2 steps. Note that since the list is empty, no assignments are performed in the for x in L line.\n",
    "In the worst case scenario, L is a long list of one repeated number (ie [2, 2, 2, 2, ...]. In this case we go through the loop for x in L n times. Every time through this loop, we perform one assigment of a value to the variable x, then we execute the inner loop for y in L n times.\n",
    "The inner loop performs one assigment of a value to the variable y. It then has one operation that is checked every time (if x == y). Since the WORST case is when the list is composed of identical elements, this check is always true - so the third and fourth operations (x*y, and list appending) are always performed. So the inner loop executes 4*n times on each iteration of the outer loop. Thus the nested loop structure is executed n * (4*n + 1) = 4*n**2 + n times!\n",
    "Adding in two steps (for the first assignment statement, and the return statement) we see that in the worst case, this program executes 4*n**2 + n + 2 steps."
   ]
  },
  {
   "cell_type": "code",
   "execution_count": null,
   "metadata": {},
   "outputs": [],
   "source": [
    "def program3(L1, L2):\n",
    "    intersection = []\n",
    "    for elt in L1:\n",
    "        if elt in L2:\n",
    "            intersection.append(elt)\n",
    "    return intersection"
   ]
  },
  {
   "cell_type": "markdown",
   "metadata": {},
   "source": [
    "best case: 2\n",
    "\n",
    "worst case: n^2 + 2*n + 2\n",
    "\n",
    "complexity: O(n^2)\n",
    "\n",
    "In the best case scenario, L1 is an empty list. So we execute only the first assignment statement, then the return statement. Thus in the best case we execute 2 steps.\n",
    "In the worst case scenario, every element of L1 is the same as the very last element of L2. In this case we go through the loop for elt in L1 n times. Every time through this loop, we perform one assigment of a value to the variable elt, then\twe execute the check if elt in L2.\n",
    "How long does it take to execute this check? Well in the worst case, elt is the very LAST element of L2. In order to check if elt in L2, Python iterates over the elements of L2 until it either finds the one you're looking for, or L2 runs out of elements. Thus in the worst case, the check if elt in L2 takes n steps. After this, we perform one append operation. So the conditional plus the append takes n + 1 steps on each iteration of the loop. Thus the for loop takes n * (n + 2) = n**2 + 2*n steps!\n",
    "Adding in two steps (for the first assignment statement, and the return statement) we see that in the worst case, this program executes n**2 + 2*n + 2 steps."
   ]
  },
  {
   "cell_type": "markdown",
   "metadata": {},
   "source": [
    "### Complexities\n",
    "Remember the following rules when determining the complexity order of a function:\n",
    "If running time is a sum of multiple terms, keep one with the largest growth rate (so n**3 + 100n**2 + 500,000 is O(n**3)).\n",
    "\n",
    "If the remaining term is a product (eg 3n**2), drop any multiplicative constants (so 3n**2 is O(n**2)).\n",
    "\n",
    "It's also good to note that if you have a function that takes a constant number of steps - regardless of the size of the input - the function is O(1), even if it takes 3,000,000 steps every time! This is because the function does not take any additional time as the input grows large.\n",
    "Finally, pay attention to the fact that Programs 1, 2, and 3 were all O(n**2). This is important! Generally, a nested loop structure has O(n**2) complexity. This is not the best, as we'll discover in the next lectures in this sequence."
   ]
  },
  {
   "cell_type": "code",
   "execution_count": null,
   "metadata": {},
   "outputs": [],
   "source": []
  },
  {
   "cell_type": "markdown",
   "metadata": {},
   "source": [
    "# Complexities\n",
    "- Constant Complexity\n",
    "    - Complexity independent of inputs\n",
    "    - Can have loops or recursive calls, but number of iterations or calls independent of size of input\n",
    "\n",
    "---\n",
    "- Logarithmic\n",
    "    - grows as log of size of one of its inputs\n",
    "    - examples: bisection search, binary search of a list\n",
    "        - anything that halves the possibilities at each step\n",
    "        "
   ]
  },
  {
   "cell_type": "code",
   "execution_count": null,
   "metadata": {},
   "outputs": [],
   "source": [
    "def recurPowerNew(a, b):\n",
    "    print(a, b)\n",
    "    if b == 0:\n",
    "        return 1\n",
    "    elif b%2 == 0:\n",
    "        return recurPowerNew(a*a, b/2)\n",
    "    else:\n",
    "        return a * recurPowerNew(a, b-1)"
   ]
  },
  {
   "cell_type": "code",
   "execution_count": 11,
   "metadata": {},
   "outputs": [],
   "source": [
    "def intToStr(i):\n",
    "    digits = '0123456789'\n",
    "    if i == 0:\n",
    "        return '0'\n",
    "    result = ''\n",
    "    while i > 0:\n",
    "        result = digits[i%10] + result\n",
    "        i = i//10\n",
    "    return result"
   ]
  },
  {
   "cell_type": "markdown",
   "metadata": {},
   "source": [
    "- only have to look at loop as no function calls\n",
    "- within while loop, constant number of steps\n",
    "    - how many times can one divide i by 10?\n",
    "    - O(log(i)) # log base 10 of the size of i\n",
    "- why isn't this linear?\n",
    "    - it is linear to the number of digits in n, but log to the size of n"
   ]
  },
  {
   "cell_type": "markdown",
   "metadata": {},
   "source": [
    "----\n",
    "- Linear\n",
    "    - searching a list in sequence to see if an element is present\n",
    "    - add characters of a string, assumed to be composed of decimal digits"
   ]
  },
  {
   "cell_type": "code",
   "execution_count": 13,
   "metadata": {},
   "outputs": [],
   "source": [
    "def addDigits(s):\n",
    "    val = 0 # constant\n",
    "    for c in s:\n",
    "        val += int(c) # how many times do I go through this loop? the number of charactres in s\n",
    "    return val # constant"
   ]
  },
  {
   "cell_type": "code",
   "execution_count": 14,
   "metadata": {},
   "outputs": [],
   "source": [
    "# complexity can depend on number of recursive calls\n",
    "def fact_iter(n):\n",
    "    prod = 1\n",
    "    for i in range(1, n+1):\n",
    "        prod *= 1\n",
    "    return prod"
   ]
  },
  {
   "cell_type": "markdown",
   "metadata": {},
   "source": [
    "The question is how many times does the loop occur since everything else is constant? \n",
    "=> n times"
   ]
  },
  {
   "cell_type": "code",
   "execution_count": 15,
   "metadata": {},
   "outputs": [],
   "source": [
    "def fact_recur(n):\n",
    "    if n <= 1:\n",
    "        return 1\n",
    "    else: \n",
    "        return n * fact_recur(n-1)"
   ]
  },
  {
   "cell_type": "markdown",
   "metadata": {},
   "source": [
    "- computes factorial recursively\n",
    "-  still O(n) because the number of function calls is linear in n\n",
    "    - how many recursive calls occur? n"
   ]
  },
  {
   "cell_type": "markdown",
   "metadata": {},
   "source": [
    "--- \n",
    "- Log-linear\n",
    "    - For algorithms like mergesort, heapsort\n",
    "    - when a set of data is repeatedly divided into half and each half is processed again independently."
   ]
  },
  {
   "cell_type": "markdown",
   "metadata": {},
   "source": [
    "---\n",
    "- Polynomial\n",
    "    - most common polynomial algorithms are quadratic, ie complexity grows with square of size of input\n",
    "    - commonly occurs when we have nested loops or recursive function calls"
   ]
  },
  {
   "cell_type": "code",
   "execution_count": 16,
   "metadata": {},
   "outputs": [],
   "source": [
    "def isSubset(L1, L2): # does every element in the first list occur in the second list?\n",
    "    for e1 in L1:\n",
    "        matched = False\n",
    "        for e2 in L2:\n",
    "            if e1 == e2:\n",
    "                matched = True\n",
    "                break\n",
    "        if not matched:\n",
    "            return False\n",
    "    return True"
   ]
  },
  {
   "cell_type": "markdown",
   "metadata": {},
   "source": [
    "- we are looking at the worst case, so there will be no breaks\n",
    "    - nested loops are an example of quadratic complexity\n",
    "        - outer loop executed len(L1) times\n",
    "        - each iteration will exectue inner loop up to len(L2) times\n",
    "        - O(len(L1) * len(L2))\n",
    "        - worst case is when L1 and L2 are the same length\n",
    "            - n * n operations / O(len(L1)^2)"
   ]
  },
  {
   "cell_type": "code",
   "execution_count": 18,
   "metadata": {},
   "outputs": [],
   "source": [
    "# find intersection of two lists, return a list with each element only appearing only once\n",
    "def intersect(L1, L2):\n",
    "    tmp = []\n",
    "    for e1 in L1: # nested loop of len(L1) * len(L2) steps\n",
    "        for e2 in L2:\n",
    "            if e1 == e2:\n",
    "                tmp.append(e1)\n",
    "    res = []\n",
    "    for e in tmp: # second loop takes at most len(L1) steps\n",
    "        if not(e in res):\n",
    "            res.append(e)\n",
    "    return res\n",
    "# latter term overwhelmed by former term asympotically"
   ]
  },
  {
   "cell_type": "code",
   "execution_count": 19,
   "metadata": {},
   "outputs": [],
   "source": [
    "def g(n):\n",
    "    x = 0\n",
    "    for i in range(n):\n",
    "        for j in range(n):\n",
    "            x += 1\n",
    "    return x\n",
    "# computes n^2 inefficiently\n",
    "# when dealing with nested loops, look at the ranges\n",
    "# nested loops, each iterating n times"
   ]
  },
  {
   "cell_type": "markdown",
   "metadata": {},
   "source": [
    "---\n",
    "- Exponential\n",
    "    - The most expensive\n",
    "    - recursive functions where more than one recursive call for each size of problem\n",
    "    - many problems are inherently exponential\n",
    "        - will an approximate solution be better?"
   ]
  },
  {
   "cell_type": "code",
   "execution_count": 20,
   "metadata": {},
   "outputs": [],
   "source": [
    "def genSubsets(L):\n",
    "    res = []\n",
    "    if len(L) == 0:\n",
    "        return [[]] # list of empty list\n",
    "    smaller = genSubsets(L[:-1]) # all subsets without last element by recursively calling this function\n",
    "    extra = L[-1:] # create list of just last element\n",
    "    new = []\n",
    "    for small in smaller:\n",
    "        new.append(small + extra) # for all smaller solutions, add one with last element\n",
    "    return smaller + new # combine those with last element and those without"
   ]
  },
  {
   "cell_type": "code",
   "execution_count": 21,
   "metadata": {},
   "outputs": [
    {
     "name": "stdout",
     "output_type": "stream",
     "text": [
      "[[], [1], [2], [1, 2], [3], [1, 3], [2, 3], [1, 2, 3], [4], [1, 4], [2, 4], [1, 2, 4], [3, 4], [1, 3, 4], [2, 3, 4], [1, 2, 3, 4]]\n"
     ]
    }
   ],
   "source": [
    "print(genSubsets([1,2,3,4]))"
   ]
  },
  {
   "cell_type": "markdown",
   "metadata": {},
   "source": [
    "- append occurs in constant time\n",
    "- time includes time to solve smaller problem, plust time needed to make a copy of all elements  in smaller problem\n",
    "- what is the size of the smaller problem?\n",
    "    - for set of size k, there are 2^k cases\n",
    "    - for n elements, need to solve 2^(n-1) + 2(n-2) + .... + 2^0\n",
    "        - which  can be compressed to O(2^n)"
   ]
  },
  {
   "cell_type": "markdown",
   "metadata": {},
   "source": [
    "---"
   ]
  },
  {
   "cell_type": "code",
   "execution_count": 22,
   "metadata": {},
   "outputs": [],
   "source": [
    "def h(n):\n",
    "    answer = 0\n",
    "    s = str(n)\n",
    "    for c in s: # this is linear O(len(s)), but what about in terms of n?\n",
    "        answer += int(c)\n",
    "    return answer"
   ]
  },
  {
   "cell_type": "markdown",
   "metadata": {},
   "source": [
    "- add digits of a number together\n",
    "- tricky part \n",
    "    - convert int to string\n",
    "    - iterate over length of string, not magnitude of input n\n",
    "    - think of it like dividing n by 10 each iteration\n",
    "- so it is O(log n), since we are reducing the size of the problem by a constant factor on each stage"
   ]
  },
  {
   "cell_type": "code",
   "execution_count": 36,
   "metadata": {},
   "outputs": [],
   "source": [
    "# some other add digits\n",
    "def sumDigits(n):\n",
    "    return 0 if n == 0 else int(n%10) + sumDigits(int(n/10)) \n",
    "def getSum(n):\n",
    "    s = 0\n",
    "    while(n > 0):\n",
    "        s += int(n%10)\n",
    "        n = int(n/10)\n",
    "    return s\n",
    "def add_digits(n):\n",
    "    return sum(int(c) for c in str(n))"
   ]
  },
  {
   "cell_type": "code",
   "execution_count": 23,
   "metadata": {},
   "outputs": [],
   "source": [
    "def fib_iter(n):\n",
    "    if n == 0:\n",
    "        return 0\n",
    "    elif n == 1:\n",
    "        return 1 # constant O(1)\n",
    "    else:\n",
    "        fib_i = 0\n",
    "        fib_ii = 1 # constant O(1)\n",
    "        for i in range(n-1): # linear O(n)\n",
    "            tmp = fib_i\n",
    "            fib_i = fib_ii\n",
    "            fib_ii= tmp + fib_ii\n",
    "    return fib_ii # constant O(1)"
   ]
  },
  {
   "cell_type": "markdown",
   "metadata": {},
   "source": [
    "so linear O(n)"
   ]
  },
  {
   "cell_type": "code",
   "execution_count": 26,
   "metadata": {},
   "outputs": [],
   "source": [
    "def fib_recur(n):\n",
    "    if n == 0:\n",
    "        return 0\n",
    "    elif n == 1:\n",
    "        return 1\n",
    "    else:\n",
    "        return fib_recur(n-1) + fib_recur(n-2)"
   ]
  },
  {
   "cell_type": "markdown",
   "metadata": {},
   "source": [
    "branches out to O(2^n). <br/>\n",
    "the memoized version maintains the conciseness of the recursive solution but executes in linear time"
   ]
  },
  {
   "cell_type": "code",
   "execution_count": 30,
   "metadata": {},
   "outputs": [],
   "source": [
    "# when the input is a list\n",
    "def sum_list(L):\n",
    "    total = 0\n",
    "    for e in L:\n",
    "        total = total + e\n",
    "    return total"
   ]
  },
  {
   "cell_type": "markdown",
   "metadata": {},
   "source": [
    "- O(n) where n is the length of the list\n",
    "- must define what size of input means\n",
    "    - previously it was the magnitude of a number\n",
    "    - here, it is the length of a list"
   ]
  },
  {
   "cell_type": "code",
   "execution_count": null,
   "metadata": {},
   "outputs": [],
   "source": []
  }
 ],
 "metadata": {
  "kernelspec": {
   "display_name": "Python 3",
   "language": "python",
   "name": "python3"
  },
  "language_info": {
   "codemirror_mode": {
    "name": "ipython",
    "version": 3
   },
   "file_extension": ".py",
   "mimetype": "text/x-python",
   "name": "python",
   "nbconvert_exporter": "python",
   "pygments_lexer": "ipython3",
   "version": "3.6.5"
  }
 },
 "nbformat": 4,
 "nbformat_minor": 2
}
