{
 "cells": [
  {
   "cell_type": "markdown",
   "metadata": {},
   "source": [
    "# Object oriented"
   ]
  },
  {
   "cell_type": "markdown",
   "metadata": {},
   "source": [
    "Python supports many different kinds of data <br/>\n",
    "` 1234, 'hello', [1,2], {'CA': 'California, 'MA': \"Massachusetts'}`<br/>\n",
    "- Each is an instance of an object, and each has\n",
    "    - a type, and with them the ability to manipulate them\n",
    "    - an internal data representation (primitive or composite)\n",
    "    - a set of procedures for interaction with the object\n",
    "- each instance is a particular type of object\n",
    "    - 1234 is an instance of an int\n",
    "    \n",
    "- objects are a data abstraction that capture:\n",
    "     - internal representation through data attributes\n",
    "     - interface for interacting with objects through methods, defines behaviors but hides implementation\n",
    "     \n",
    "- can create new instances of objects\n",
    "- can destroy objects\n",
    "     - explicitly like with del, or letting them be garbage collected\n",
    "     \n",
    "- lists, tuples, strings are built into Python, but we can create  our own data object types\n",
    " \n",
    "- lists are represented internally as a linked list of two cells, of the content and the pointer to the next index in memory \n",
    "\n",
    "- internal representation should be _private_\n",
    "- correct behavior may be compromised if you manipulate internal representation directly - use defined interfaces\n",
    "\n",
    "- distinction between creating a class and using an instance of a class\n",
    "    - list vs [1,2,3,4]\n",
    "- creating the class involves\n",
    "    - defining the class name\n",
    "    - defining class attributes"
   ]
  },
  {
   "cell_type": "markdown",
   "metadata": {},
   "source": [
    "# Advantages of OOP - Abstraction"
   ]
  },
  {
   "cell_type": "markdown",
   "metadata": {},
   "source": [
    "- **bundle data into packages** together with procedures that work on them through well-defined interaces\n",
    "- divide & conquer development\n",
    "    - implement and test behavior of each class separately \n",
    "    - increased modularity reduces complexity\n",
    "- classes make it easy to **reuse** code\n",
    "    - many Python modules define new classes\n",
    "    - each class has a separate environment (no collision on function names)\n",
    "    - inheritance allow subclasses to redefine or extend a selected subset of a superclass' behavior"
   ]
  },
  {
   "cell_type": "markdown",
   "metadata": {},
   "source": [
    "# Making A Class"
   ]
  },
  {
   "cell_type": "code",
   "execution_count": 1,
   "metadata": {},
   "outputs": [
    {
     "name": "stdout",
     "output_type": "stream",
     "text": [
      "86.75\n",
      "<class '__main__.Student'>\n",
      "Rodolfo Smith says hello to Porterarina\n"
     ]
    }
   ],
   "source": [
    "class Student:\n",
    "  def __init__(self, new_name, new_grades):\n",
    "    self.name = new_name\n",
    "    self.grades = new_grades\n",
    "\n",
    "  def average(self):\n",
    "    return sum(self.grades) / len(self.grades)\n",
    "\n",
    "  def two_arg(self, name):\n",
    "    return self.name + ' says hello to ' + name\n",
    "\n",
    "student_one = Student('Rodolfo Smith', [70, 88, 90, 99])\n",
    "print(student_one.average())\n",
    "\n",
    "print(type(student_one))\n",
    "\n",
    "print( student_one.two_arg('Porterarina')  )"
   ]
  },
  {
   "cell_type": "markdown",
   "metadata": {},
   "source": [
    "# Adding / enabling dunder methods"
   ]
  },
  {
   "cell_type": "code",
   "execution_count": 2,
   "metadata": {},
   "outputs": [
    {
     "name": "stdout",
     "output_type": "stream",
     "text": [
      "<class 'str'>\n",
      "Garage with 2 cars.\n",
      "Fiesta\n",
      "Fiesta\n",
      "Focus\n"
     ]
    }
   ],
   "source": [
    "print('hi'.__class__)\n",
    "\n",
    "# add dunder len and getitem to access len and index accessor on an object\n",
    "class Garage:\n",
    "  def __init__(self):\n",
    "    self.cars = []\n",
    "\n",
    "  def __len__(self):\n",
    "    return len(self.cars)\n",
    "\n",
    "  def __getitem__(self, i):\n",
    "    return self.cars[i]\n",
    "\n",
    "  # repr and str are good for debugging and printing to users\n",
    "  def __repr__(self):\n",
    "    return f'<Garage {self.cars}>'\n",
    "\n",
    "  def __str__(self):\n",
    "    return f'Garage with {len(self)} cars.'\n",
    "\n",
    "ford = Garage()\n",
    "ford.cars.append('Fiesta')\n",
    "ford.cars.append('Focus')\n",
    "\n",
    "print(ford)\n",
    "print(ford[0])\n",
    "\n",
    "# having these two methods also enables for loops\n",
    "for car in ford:\n",
    "  print(car)"
   ]
  },
  {
   "cell_type": "markdown",
   "metadata": {},
   "source": [
    "# Inheritance"
   ]
  },
  {
   "cell_type": "code",
   "execution_count": 4,
   "metadata": {},
   "outputs": [
    {
     "name": "stdout",
     "output_type": "stream",
     "text": [
      "15.5\n",
      "78.0\n",
      "581.25\n"
     ]
    }
   ],
   "source": [
    "class Student:\n",
    "  def __init__(self, name, school):\n",
    "    self.name = name\n",
    "    self.school = school\n",
    "    self.marks = []\n",
    "\n",
    "  def average(self):\n",
    "    return sum(self.marks)/len(self.marks)\n",
    "\n",
    "class WorkingStudent(Student):\n",
    "  def __init__(self, name, school, salary):\n",
    "    super().__init__(name, school)\n",
    "    self.salary = salary\n",
    "\n",
    "  # property decorator enables print(student.weekly_salary) without\n",
    "    # having to use the () brackets\n",
    "  # use only when returning values that don't require actions\n",
    "  @property\n",
    "  def weekly_salary(self):\n",
    "    return self.salary * 37.5\n",
    "\n",
    "\n",
    "rolf = WorkingStudent('Rolf', 'MIT', 15.50)\n",
    "print(rolf.salary)\n",
    "rolf.marks.append(57)\n",
    "rolf.marks.append(99)\n",
    "print(rolf.average())\n",
    "\n",
    "print(rolf.weekly_salary)"
   ]
  },
  {
   "cell_type": "code",
   "execution_count": null,
   "metadata": {},
   "outputs": [],
   "source": []
  }
 ],
 "metadata": {
  "kernelspec": {
   "display_name": "Python 3",
   "language": "python",
   "name": "python3"
  },
  "language_info": {
   "codemirror_mode": {
    "name": "ipython",
    "version": 3
   },
   "file_extension": ".py",
   "mimetype": "text/x-python",
   "name": "python",
   "nbconvert_exporter": "python",
   "pygments_lexer": "ipython3",
   "version": "3.6.5"
  }
 },
 "nbformat": 4,
 "nbformat_minor": 2
}
