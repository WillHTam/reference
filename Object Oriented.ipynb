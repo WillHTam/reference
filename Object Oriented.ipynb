{
 "cells": [
  {
   "cell_type": "markdown",
   "metadata": {},
   "source": [
    "# Making A Class"
   ]
  },
  {
   "cell_type": "code",
   "execution_count": 1,
   "metadata": {},
   "outputs": [
    {
     "name": "stdout",
     "output_type": "stream",
     "text": [
      "86.75\n",
      "<class '__main__.Student'>\n",
      "Rodolfo Smith says hello to Porterarina\n"
     ]
    }
   ],
   "source": [
    "class Student:\n",
    "  def __init__(self, new_name, new_grades):\n",
    "    self.name = new_name\n",
    "    self.grades = new_grades\n",
    "\n",
    "  def average(self):\n",
    "    return sum(self.grades) / len(self.grades)\n",
    "\n",
    "  def two_arg(self, name):\n",
    "    return self.name + ' says hello to ' + name\n",
    "\n",
    "student_one = Student('Rodolfo Smith', [70, 88, 90, 99])\n",
    "print(student_one.average())\n",
    "\n",
    "print(type(student_one))\n",
    "\n",
    "print( student_one.two_arg('Porterarina')  )"
   ]
  },
  {
   "cell_type": "markdown",
   "metadata": {},
   "source": [
    "# Adding / enabling dunder methods"
   ]
  },
  {
   "cell_type": "code",
   "execution_count": 2,
   "metadata": {},
   "outputs": [
    {
     "name": "stdout",
     "output_type": "stream",
     "text": [
      "<class 'str'>\n",
      "Garage with 2 cars.\n",
      "Fiesta\n",
      "Fiesta\n",
      "Focus\n"
     ]
    }
   ],
   "source": [
    "print('hi'.__class__)\n",
    "\n",
    "# add dunder len and getitem to access len and index accessor on an object\n",
    "class Garage:\n",
    "  def __init__(self):\n",
    "    self.cars = []\n",
    "\n",
    "  def __len__(self):\n",
    "    return len(self.cars)\n",
    "\n",
    "  def __getitem__(self, i):\n",
    "    return self.cars[i]\n",
    "\n",
    "  # repr and str are good for debugging and printing to users\n",
    "  def __repr__(self):\n",
    "    return f'<Garage {self.cars}>'\n",
    "\n",
    "  def __str__(self):\n",
    "    return f'Garage with {len(self)} cars.'\n",
    "\n",
    "ford = Garage()\n",
    "ford.cars.append('Fiesta')\n",
    "ford.cars.append('Focus')\n",
    "\n",
    "print(ford)\n",
    "print(ford[0])\n",
    "\n",
    "# having these two methods also enables for loops\n",
    "for car in ford:\n",
    "  print(car)"
   ]
  },
  {
   "cell_type": "markdown",
   "metadata": {},
   "source": [
    "# Inheritance"
   ]
  },
  {
   "cell_type": "code",
   "execution_count": 4,
   "metadata": {},
   "outputs": [
    {
     "name": "stdout",
     "output_type": "stream",
     "text": [
      "15.5\n",
      "78.0\n",
      "581.25\n"
     ]
    }
   ],
   "source": [
    "class Student:\n",
    "  def __init__(self, name, school):\n",
    "    self.name = name\n",
    "    self.school = school\n",
    "    self.marks = []\n",
    "\n",
    "  def average(self):\n",
    "    return sum(self.marks)/len(self.marks)\n",
    "\n",
    "class WorkingStudent(Student):\n",
    "  def __init__(self, name, school, salary):\n",
    "    super().__init__(name, school)\n",
    "    self.salary = salary\n",
    "\n",
    "  # property decorator enables print(student.weekly_salary) without\n",
    "    # having to use the () brackets\n",
    "  # use only when returning values that don't require actions\n",
    "  @property\n",
    "  def weekly_salary(self):\n",
    "    return self.salary * 37.5\n",
    "\n",
    "\n",
    "rolf = WorkingStudent('Rolf', 'MIT', 15.50)\n",
    "print(rolf.salary)\n",
    "rolf.marks.append(57)\n",
    "rolf.marks.append(99)\n",
    "print(rolf.average())\n",
    "\n",
    "print(rolf.weekly_salary)"
   ]
  },
  {
   "cell_type": "code",
   "execution_count": null,
   "metadata": {},
   "outputs": [],
   "source": []
  }
 ],
 "metadata": {
  "kernelspec": {
   "display_name": "Python 3",
   "language": "python",
   "name": "python3"
  },
  "language_info": {
   "codemirror_mode": {
    "name": "ipython",
    "version": 3
   },
   "file_extension": ".py",
   "mimetype": "text/x-python",
   "name": "python",
   "nbconvert_exporter": "python",
   "pygments_lexer": "ipython3",
   "version": "3.6.5"
  }
 },
 "nbformat": 4,
 "nbformat_minor": 2
}
