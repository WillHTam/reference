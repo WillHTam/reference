{
 "cells": [
  {
   "cell_type": "markdown",
   "metadata": {},
   "source": [
    "# Object oriented"
   ]
  },
  {
   "cell_type": "markdown",
   "metadata": {},
   "source": [
    "Python supports many different kinds of data <br/>\n",
    "` 1234, 'hello', [1,2], {'CA': 'California, 'MA': \"Massachusetts'}`<br/>\n",
    "- Each is an instance of an object, and each has\n",
    "    - a type, and with them the ability to manipulate them\n",
    "    - an internal data representation (primitive or composite)\n",
    "    - a set of procedures for interaction with the object\n",
    "- each instance is a particular type of object\n",
    "    - 1234 is an instance of an int\n",
    "    \n",
    "- objects are a data abstraction that capture:\n",
    "     - internal representation through data attributes\n",
    "     - interface for interacting with objects through methods, defines behaviors but hides implementation\n",
    "     \n",
    "- can create new instances of objects\n",
    "- can destroy objects\n",
    "     - explicitly like with del, or letting them be garbage collected\n",
    "     \n",
    "- lists, tuples, strings are built into Python, but we can create  our own data object types\n",
    " \n",
    "- lists are represented internally as a linked list of two cells, of the content and the pointer to the next index in memory \n",
    "\n",
    "- internal representation should be _private_\n",
    "- correct behavior may be compromised if you manipulate internal representation directly - use defined interfaces\n",
    "\n",
    "- distinction between creating a class and using an instance of a class\n",
    "    - list vs [1,2,3,4]\n",
    "- creating the class involves\n",
    "    - defining the class name\n",
    "    - defining class attributes"
   ]
  },
  {
   "cell_type": "markdown",
   "metadata": {},
   "source": [
    "# Advantages of OOP - Abstraction"
   ]
  },
  {
   "cell_type": "markdown",
   "metadata": {},
   "source": [
    "- **bundle data into packages** together with procedures that work on them through well-defined interaces\n",
    "- divide & conquer development\n",
    "    - implement and test behavior of each class separately \n",
    "    - increased modularity reduces complexity\n",
    "- classes make it easy to **reuse** code\n",
    "    - many Python modules define new classes\n",
    "    - each class has a separate environment (no collision on function names)\n",
    "    - inheritance allow subclasses to redefine or extend a selected subset of a superclass' behavior"
   ]
  },
  {
   "cell_type": "markdown",
   "metadata": {},
   "source": [
    "# Properties and Setters"
   ]
  },
  {
   "cell_type": "code",
   "execution_count": 113,
   "metadata": {},
   "outputs": [],
   "source": [
    "class P:\n",
    "    def __init__(self,x):\n",
    "        self.x = x\n",
    "\n",
    "    @property\n",
    "    def x(self):\n",
    "        return self.__x\n",
    "\n",
    "    @x.setter\n",
    "    def x(self, x):\n",
    "        if x < 0:\n",
    "            self.__x = 0\n",
    "        elif x > 1000:\n",
    "            self.__x = 1000\n",
    "        else:\n",
    "            self.__x = x"
   ]
  },
  {
   "cell_type": "markdown",
   "metadata": {},
   "source": [
    "For the users of a class, properties are syntactically identical to ordinary attributes."
   ]
  },
  {
   "cell_type": "code",
   "execution_count": 112,
   "metadata": {
    "scrolled": true
   },
   "outputs": [
    {
     "name": "stdout",
     "output_type": "stream",
     "text": [
      "1000\n",
      "0\n"
     ]
    }
   ],
   "source": [
    "p1 = P(1001)\n",
    "print(p1.x)\n",
    "p1.x = -12\n",
    "print(p1.x)"
   ]
  },
  {
   "cell_type": "markdown",
   "metadata": {},
   "source": [
    "There is not a one-to-one connection between properties (or mutator methods) and the attributes, i.e. that each attribute has or should have its own property (or getter-setter-pair) and the other way around. Even in other object oriented languages than Python, it's usually not a good idea to implement a class like that. The main reason is that many attributes are only internally needed and creating interfaces for the user of the class increases unnecessarily the usability of the class.\n",
    "\n",
    "The following example shows a class, which has internal attributes, which can't be accessed from outside. These are the private attributes `self.__potential_physical` and `self.__potential_psychic`. Furthermore we show that a property can be deduced from the values of more than one attribute. The property \"condition\" of our example returns the condition of the robot in a descriptive string. The condition depends on the sum of the values of the psychic and the physical conditions of the robot."
   ]
  },
  {
   "cell_type": "code",
   "execution_count": 3,
   "metadata": {
    "scrolled": true
   },
   "outputs": [
    {
     "name": "stdout",
     "output_type": "stream",
     "text": [
      "Seems to be okay!\n",
      "I feel bad!\n"
     ]
    }
   ],
   "source": [
    "class Robot:\n",
    "    def __init__(self, name, build_year, lk = 0.5, lp = 0.5 ):\n",
    "        self.name = name\n",
    "        self.build_year = build_year\n",
    "        self.__potential_physical = lk\n",
    "        self.__potential_psychic = lp\n",
    "\n",
    "    @property\n",
    "    def condition(self):\n",
    "        s = self.__potential_physical + self.__potential_psychic\n",
    "        if s <= -1:\n",
    "            return \"I feel miserable!\"\n",
    "        elif s <= 0:\n",
    "            return \"I feel bad!\"\n",
    "        elif s <= 0.5:\n",
    "            return \"Could be worse!\"\n",
    "        elif s <= 1:\n",
    "            return \"Seems to be okay!\"\n",
    "        else:\n",
    "            return \"Great!\" \n",
    "  \n",
    "x = Robot(\"Marvin\", 1979, 0.2, 0.4 )\n",
    "y = Robot(\"Caliban\", 1993, -0.4, 0.3)\n",
    "print(x.condition)\n",
    "print(y.condition)"
   ]
  },
  {
   "cell_type": "code",
   "execution_count": 4,
   "metadata": {},
   "outputs": [
    {
     "ename": "AttributeError",
     "evalue": "'Robot' object has no attribute '__potential_physical'",
     "output_type": "error",
     "traceback": [
      "\u001b[0;31m---------------------------------------------------------------------------\u001b[0m",
      "\u001b[0;31mAttributeError\u001b[0m                            Traceback (most recent call last)",
      "\u001b[0;32m<ipython-input-4-008bf3e33a27>\u001b[0m in \u001b[0;36m<module>\u001b[0;34m()\u001b[0m\n\u001b[0;32m----> 1\u001b[0;31m \u001b[0mx\u001b[0m\u001b[0;34m.\u001b[0m\u001b[0m__potential_physical\u001b[0m\u001b[0;34m\u001b[0m\u001b[0m\n\u001b[0m",
      "\u001b[0;31mAttributeError\u001b[0m: 'Robot' object has no attribute '__potential_physical'"
     ]
    }
   ],
   "source": [
    "x.__potential_physical"
   ]
  },
  {
   "cell_type": "markdown",
   "metadata": {},
   "source": [
    "# Adding / enabling dunder methods"
   ]
  },
  {
   "cell_type": "code",
   "execution_count": 5,
   "metadata": {},
   "outputs": [
    {
     "name": "stdout",
     "output_type": "stream",
     "text": [
      "<class 'str'>\n",
      "Garage with 2 cars.\n",
      "Fiesta\n",
      "Fiesta\n",
      "Focus\n"
     ]
    }
   ],
   "source": [
    "print('hi'.__class__)\n",
    "\n",
    "# add dunder len and getitem to access len and index accessor on an object\n",
    "class Garage:\n",
    "    def __init__(self):\n",
    "        self.cars = []\n",
    "\n",
    "    def __len__(self):\n",
    "        return len(self.cars)\n",
    "\n",
    "    def __getitem__(self, i):\n",
    "        return self.cars[i]\n",
    "\n",
    "  # repr and str are good for debugging and printing to users\n",
    "    def __repr__(self):\n",
    "        return f'<Garage {self.cars}>'\n",
    "\n",
    "    def __str__(self):\n",
    "        return f'Garage with {len(self)} cars.'\n",
    "\n",
    "ford = Garage()\n",
    "ford.cars.append('Fiesta')\n",
    "ford.cars.append('Focus')\n",
    "\n",
    "print(ford)\n",
    "print(ford[0])\n",
    "\n",
    "# having these two methods also enables for loops\n",
    "for car in ford:\n",
    "    print(car)"
   ]
  },
  {
   "cell_type": "markdown",
   "metadata": {},
   "source": [
    "# Inheritance"
   ]
  },
  {
   "cell_type": "code",
   "execution_count": 6,
   "metadata": {},
   "outputs": [
    {
     "name": "stdout",
     "output_type": "stream",
     "text": [
      "15.5\n",
      "78.0\n",
      "581.25\n"
     ]
    }
   ],
   "source": [
    "class Student:\n",
    "    def __init__(self, name, school):\n",
    "        self.name = name\n",
    "        self.school = school\n",
    "        self.marks = []\n",
    "\n",
    "    def average(self):\n",
    "        return sum(self.marks)/len(self.marks)\n",
    "\n",
    "class WorkingStudent(Student):\n",
    "    def __init__(self, name, school, salary):\n",
    "        super().__init__(name, school)\n",
    "        self.salary = salary\n",
    "\n",
    "  # property decorator enables print(student.weekly_salary) without\n",
    "    # having to use the () brackets\n",
    "  # use only when returning values that don't require actions\n",
    "    @property\n",
    "    def weekly_salary(self):\n",
    "        return self.salary * 37.5\n",
    "    \n",
    "    # method that cannot change properties of class or instance\n",
    "    # good for namespacing\n",
    "    @staticmethod \n",
    "    def echo(string):\n",
    "        if type(string) is str:\n",
    "            print(string)\n",
    "            \n",
    "    # class methods should be used as part of the class\n",
    "    @classmethod\n",
    "    def miaou(self):\n",
    "        pass\n",
    "\n",
    "rolf = WorkingStudent('Rolf', 'MIT', 15.50)\n",
    "print(rolf.salary)\n",
    "rolf.marks.append(57)\n",
    "rolf.marks.append(99)\n",
    "print(rolf.average())\n",
    "\n",
    "print(rolf.weekly_salary)"
   ]
  },
  {
   "cell_type": "markdown",
   "metadata": {},
   "source": [
    "# Making Classes"
   ]
  },
  {
   "cell_type": "code",
   "execution_count": 7,
   "metadata": {},
   "outputs": [],
   "source": [
    "class Coordinate(object):\n",
    "    def __init__(self, x, y):\n",
    "        self.x = x\n",
    "        self.y = y\n",
    "    def distance(self, other):\n",
    "        x_diff_sq = (self.x - other.x)**2\n",
    "        y_diff_sq = (self.y - other.y)**2\n",
    "        return (x_diff_sq + y_diff_sq)**0.5"
   ]
  },
  {
   "cell_type": "markdown",
   "metadata": {},
   "source": [
    "- data attributes of an instance are called instance variables\n",
    "- self automatically points to itself"
   ]
  },
  {
   "cell_type": "code",
   "execution_count": 8,
   "metadata": {},
   "outputs": [
    {
     "data": {
      "text/plain": [
       "3"
      ]
     },
     "execution_count": 8,
     "metadata": {},
     "output_type": "execute_result"
    }
   ],
   "source": [
    "c = Coordinate(3,4)\n",
    "c.x"
   ]
  },
  {
   "cell_type": "markdown",
   "metadata": {},
   "source": [
    " - c points to a frame (like a function call)\n",
    " - within the scope of that frame we bound avlues to data attribute variables\n",
    " - `c.x` is interpreted as getting the value of c ( a frame ) and then looking up the value associated with `x` within that frame ( thus the specific value for this instance )"
   ]
  },
  {
   "cell_type": "code",
   "execution_count": 9,
   "metadata": {},
   "outputs": [],
   "source": [
    "origin = Coordinate(0,0)"
   ]
  },
  {
   "cell_type": "markdown",
   "metadata": {},
   "source": [
    "# Methods\n",
    "- procedural attribute, like a function that works only with this class\n",
    "- Python always passes the actual object as the first argument\n",
    "    - convention is to use `self` as the name of this arg\n",
    ". dot notation is used to access data attributes and methods of objects"
   ]
  },
  {
   "cell_type": "code",
   "execution_count": 10,
   "metadata": {},
   "outputs": [
    {
     "data": {
      "text/plain": [
       "5.0"
      ]
     },
     "execution_count": 10,
     "metadata": {},
     "output_type": "execute_result"
    }
   ],
   "source": [
    "c.distance(origin) # self already implied by Python to be C"
   ]
  },
  {
   "cell_type": "markdown",
   "metadata": {},
   "source": [
    "equivalent to..."
   ]
  },
  {
   "cell_type": "code",
   "execution_count": 11,
   "metadata": {},
   "outputs": [
    {
     "data": {
      "text/plain": [
       "5.0"
      ]
     },
     "execution_count": 11,
     "metadata": {},
     "output_type": "execute_result"
    }
   ],
   "source": [
    "Coordinate.distance(c, origin) # using the name of the class to access the method"
   ]
  },
  {
   "cell_type": "markdown",
   "metadata": {},
   "source": [
    "- Coordinate is pointing to a frame\n",
    "- within the scope of that frame we created methods\n",
    "- Coordinate.distance gets the value of `Coordinate` ( a frame ), then looks up the value associated with `distance` ( a procedure ), then invokes it\n",
    "- `c.distance` inherits `distance` from the class definition, and automatically uses c as the first argument"
   ]
  },
  {
   "cell_type": "code",
   "execution_count": 12,
   "metadata": {},
   "outputs": [
    {
     "name": "stdout",
     "output_type": "stream",
     "text": [
      "<__main__.Coordinate object at 0x109ec6390>\n"
     ]
    }
   ],
   "source": [
    "print(c)"
   ]
  },
  {
   "cell_type": "markdown",
   "metadata": {},
   "source": [
    "- not helpful to see the memory location\n",
    "- so, define a `__str__` method for a class\n",
    "    - Python calls `__str__` method when used with `print` on class object"
   ]
  },
  {
   "cell_type": "code",
   "execution_count": 13,
   "metadata": {},
   "outputs": [],
   "source": [
    "class Coordinate(object):\n",
    "    def __init__(self, x, y):\n",
    "        self.x = x\n",
    "        self.y = y\n",
    "    def distance(self, other):\n",
    "        x_diff_sq = (self.x - other.x)**2\n",
    "        y_diff_sq = (self.y - other.y)**2\n",
    "        return (x_diff_sq + y_diff_sq)**0.5\n",
    "    def __str__(self):\n",
    "        return '<' + str(self.x) + ',' + str(self.y) + '>'"
   ]
  },
  {
   "cell_type": "code",
   "execution_count": 14,
   "metadata": {},
   "outputs": [
    {
     "name": "stdout",
     "output_type": "stream",
     "text": [
      "<3,4>\n"
     ]
    }
   ],
   "source": [
    "c = Coordinate(3,4)\n",
    "print(c)"
   ]
  },
  {
   "cell_type": "code",
   "execution_count": 15,
   "metadata": {},
   "outputs": [
    {
     "data": {
      "text/plain": [
       "__main__.Coordinate"
      ]
     },
     "execution_count": 15,
     "metadata": {},
     "output_type": "execute_result"
    }
   ],
   "source": [
    "type(c)"
   ]
  },
  {
   "cell_type": "code",
   "execution_count": 16,
   "metadata": {},
   "outputs": [
    {
     "data": {
      "text/plain": [
       "True"
      ]
     },
     "execution_count": 16,
     "metadata": {},
     "output_type": "execute_result"
    }
   ],
   "source": [
    "isinstance(c, Coordinate)"
   ]
  },
  {
   "cell_type": "code",
   "execution_count": 17,
   "metadata": {},
   "outputs": [
    {
     "data": {
      "text/plain": [
       "True"
      ]
     },
     "execution_count": 17,
     "metadata": {},
     "output_type": "execute_result"
    }
   ],
   "source": [
    "isinstance([1,2], list)"
   ]
  },
  {
   "cell_type": "markdown",
   "metadata": {},
   "source": [
    "Can override operators like + or ==\n",
    "with `__add__` and `__eq__`"
   ]
  },
  {
   "cell_type": "code",
   "execution_count": 18,
   "metadata": {},
   "outputs": [],
   "source": [
    "class Coordinate(object):\n",
    "    def __init__(self, x, y):\n",
    "        self.x = x\n",
    "        self.y = y\n",
    "    def distance(self, other):\n",
    "        x_diff_sq = (self.x - other.x)**2\n",
    "        y_diff_sq = (self.y - other.y)**2\n",
    "        return (x_diff_sq + y_diff_sq)**0.5\n",
    "    def __str__(self):\n",
    "        return '<' + str(self.x) + ',' + str(self.y) + '>'\n",
    "    def __sub__(self, other):\n",
    "        return Coordinate(self.x - other.x, self.y - other.y)"
   ]
  },
  {
   "cell_type": "code",
   "execution_count": 19,
   "metadata": {},
   "outputs": [],
   "source": [
    "c = Coordinate(3,4)\n",
    "origin = Coordinate(0,0)"
   ]
  },
  {
   "cell_type": "code",
   "execution_count": 20,
   "metadata": {},
   "outputs": [
    {
     "name": "stdout",
     "output_type": "stream",
     "text": [
      "<3,4>\n"
     ]
    }
   ],
   "source": [
    "foo = c - origin\n",
    "print(foo)"
   ]
  },
  {
   "cell_type": "code",
   "execution_count": 21,
   "metadata": {},
   "outputs": [
    {
     "name": "stdout",
     "output_type": "stream",
     "text": [
      "5:30\n"
     ]
    }
   ],
   "source": [
    "class Clock(object):\n",
    "    def __init__(self, time):\n",
    "        self.time = time\n",
    "    def print_time(self):\n",
    "        time = '6:30'\n",
    "        print(self.time)\n",
    "\n",
    "clock = Clock('5:30')\n",
    "clock.print_time()"
   ]
  },
  {
   "cell_type": "code",
   "execution_count": 22,
   "metadata": {},
   "outputs": [
    {
     "name": "stdout",
     "output_type": "stream",
     "text": [
      "10:30\n"
     ]
    }
   ],
   "source": [
    "class Clock(object):\n",
    "    def __init__(self, time):\n",
    "        self.time = time\n",
    "    def print_time(self, time):\n",
    "        print(time)\n",
    "\n",
    "clock = Clock('5:30')\n",
    "clock.print_time('10:30')"
   ]
  },
  {
   "cell_type": "code",
   "execution_count": 23,
   "metadata": {},
   "outputs": [
    {
     "name": "stdout",
     "output_type": "stream",
     "text": [
      "10:30\n"
     ]
    }
   ],
   "source": [
    "class Clock(object):\n",
    "    def __init__(self, time):\n",
    "        self.time = time\n",
    "    def print_time(self):\n",
    "        print(self.time)\n",
    "\n",
    "boston_clock = Clock('5:30')\n",
    "paris_clock = boston_clock\n",
    "paris_clock.time = '10:30'\n",
    "boston_clock.print_time()"
   ]
  },
  {
   "cell_type": "code",
   "execution_count": 24,
   "metadata": {},
   "outputs": [
    {
     "data": {
      "text/plain": [
       "True"
      ]
     },
     "execution_count": 24,
     "metadata": {},
     "output_type": "execute_result"
    }
   ],
   "source": [
    "boston_clock is paris_clock"
   ]
  },
  {
   "cell_type": "markdown",
   "metadata": {},
   "source": [
    "- create a new type to represent a number as a fraction\n",
    "- internal representation is two integers, numerator and denominator\n",
    "- interface aka methods with `Fraction` objects\n",
    "    - print representation\n",
    "    - add, subtract\n",
    "    - convert to float"
   ]
  },
  {
   "cell_type": "code",
   "execution_count": 25,
   "metadata": {},
   "outputs": [],
   "source": [
    "class Fraction():\n",
    "    def __init__(self, numer, denom):\n",
    "        self.numer = numer\n",
    "        self.denom = denom\n",
    "    def __str__(self):\n",
    "        return str(self.numer) + ' / ' + str(self.denom)\n",
    "    # common practice to define 'getters' which allow access to attributes\n",
    "    # important to separate out representation vs use of representation\n",
    "    def getNumer(self): \n",
    "        return self.numer\n",
    "    def getDenom(self):\n",
    "        return self.denom\n",
    "    # the getters will be useful to define other methods\n",
    "    def __add__(self, other):\n",
    "        numerNew = other.getDenom() * self.getNumer() \\\n",
    "                   + other.getNumer() * self.getDenom()\n",
    "        denomNew = other.getDenom() * self.getDenom()\n",
    "        return Fraction(numerNew, denomNew)\n",
    "    def __sub__(self, other):\n",
    "        numerNew = other.getDenom() * self.getNumer() \\\n",
    "                   - other.getNumer() * self.getDenom()\n",
    "        denomNew = other.getDenom() * self.getDenom()\n",
    "        return Fraction(numerNew, denomNew)\n",
    "    def convert(self):\n",
    "        return self.getNumer() / self.getDenom()"
   ]
  },
  {
   "cell_type": "code",
   "execution_count": 26,
   "metadata": {},
   "outputs": [
    {
     "name": "stdout",
     "output_type": "stream",
     "text": [
      "1 / 2\n"
     ]
    }
   ],
   "source": [
    "oneHalf = Fraction(1,2)\n",
    "print(oneHalf)"
   ]
  },
  {
   "cell_type": "code",
   "execution_count": 27,
   "metadata": {},
   "outputs": [
    {
     "data": {
      "text/plain": [
       "1"
      ]
     },
     "execution_count": 27,
     "metadata": {},
     "output_type": "execute_result"
    }
   ],
   "source": [
    "oneHalf.getNumer()"
   ]
  },
  {
   "cell_type": "code",
   "execution_count": 28,
   "metadata": {},
   "outputs": [],
   "source": [
    "twoThird = Fraction(2,3)"
   ]
  },
  {
   "cell_type": "code",
   "execution_count": 29,
   "metadata": {},
   "outputs": [
    {
     "name": "stdout",
     "output_type": "stream",
     "text": [
      "7 / 6\n"
     ]
    }
   ],
   "source": [
    "print(oneHalf + twoThird)"
   ]
  },
  {
   "cell_type": "code",
   "execution_count": 30,
   "metadata": {},
   "outputs": [],
   "source": [
    "threeQuarters = Fraction(3,4)"
   ]
  },
  {
   "cell_type": "code",
   "execution_count": 31,
   "metadata": {},
   "outputs": [],
   "source": [
    "x = twoThird - threeQuarters"
   ]
  },
  {
   "cell_type": "code",
   "execution_count": 32,
   "metadata": {},
   "outputs": [
    {
     "name": "stdout",
     "output_type": "stream",
     "text": [
      "-1 / 12\n"
     ]
    }
   ],
   "source": [
    "print(x)"
   ]
  },
  {
   "cell_type": "code",
   "execution_count": 33,
   "metadata": {},
   "outputs": [
    {
     "data": {
      "text/plain": [
       "__main__.Fraction"
      ]
     },
     "execution_count": 33,
     "metadata": {},
     "output_type": "execute_result"
    }
   ],
   "source": [
    "type(x)"
   ]
  },
  {
   "cell_type": "code",
   "execution_count": 34,
   "metadata": {},
   "outputs": [
    {
     "data": {
      "text/plain": [
       "-0.08333333333333333"
      ]
     },
     "execution_count": 34,
     "metadata": {},
     "output_type": "execute_result"
    }
   ],
   "source": [
    "x.convert()"
   ]
  },
  {
   "cell_type": "markdown",
   "metadata": {},
   "source": [
    "# Why do we need separate getters and setters?\n",
    "- we do not want to manipulate the internal representation of an object\n",
    "    - an example of separating out the use of the object from what's inside of it\n",
    "- so when you need to access an attribute, use the method to represent the value"
   ]
  },
  {
   "cell_type": "markdown",
   "metadata": {},
   "source": [
    "## Making a set"
   ]
  },
  {
   "cell_type": "markdown",
   "metadata": {},
   "source": [
    "- create a new type to represent a _collection of integers_\n",
    "    - initially the set is empty\n",
    "    - a particular integer appears only once in a set:\n",
    "        - **representational invariant** enforced by the code\n",
    "- internal data representation\n",
    "    - using a list to store the elements of a set\n",
    "- interface\n",
    "    - insert(e) => inserts integer e into set if not there\n",
    "    - member(e) => returns True if int e in set, False otherwise\n",
    "    - remove(e) => remove int e from set, error if not present"
   ]
  },
  {
   "cell_type": "code",
   "execution_count": 35,
   "metadata": {},
   "outputs": [],
   "source": [
    "class intSet(object):\n",
    "    \"\"\"An intSet is a set of integers\n",
    "    The value is represented by a list of ints, self.vals.\n",
    "    Each int in the set occurs in self.vals exactly once.\"\"\"\n",
    "\n",
    "    def __init__(self):\n",
    "        \"\"\"Create an empty set of integers\"\"\"\n",
    "        self.vals = []\n",
    "\n",
    "    def insert(self, e):\n",
    "        \"\"\"Assumes e is an integer and inserts e into self\"\"\"\n",
    "        if not e in self.vals: # enforcing representational invariant, element only appears once\n",
    "            self.vals.append(e)\n",
    "\n",
    "    def member(self, e):\n",
    "        \"\"\"Assumes e is an integer\n",
    "        Returns True if e is in self, and False otherwise\"\"\"\n",
    "        return e in self.vals\n",
    "\n",
    "    def remove(self, e):\n",
    "        \"\"\"Assumes e is an integer and removes e from self\n",
    "        Raises ValueError if e is not in self\"\"\"\n",
    "        try:\n",
    "            self.vals.remove(e) # remove the first instance, which should be the only\n",
    "        except:\n",
    "            raise ValueError(str(e) + ' not found') # raise error otherwise\n",
    "\n",
    "    def __str__(self):\n",
    "        \"\"\"Returns a string representation of self\"\"\"\n",
    "        self.vals.sort() #getting the self, then vals, then calling sort() on it\n",
    "        result = ''\n",
    "        for e in self.vals:\n",
    "            result = result + str(e) + ','\n",
    "        return '{' + result[:-1] + '}'"
   ]
  },
  {
   "cell_type": "code",
   "execution_count": 36,
   "metadata": {},
   "outputs": [
    {
     "name": "stdout",
     "output_type": "stream",
     "text": [
      "{}\n"
     ]
    }
   ],
   "source": [
    "s = intSet()\n",
    "print(s)"
   ]
  },
  {
   "cell_type": "code",
   "execution_count": 37,
   "metadata": {},
   "outputs": [
    {
     "name": "stdout",
     "output_type": "stream",
     "text": [
      "{3,4}\n"
     ]
    }
   ],
   "source": [
    "s.insert(3)\n",
    "s.insert(4)\n",
    "s.insert(3)\n",
    "print(s)"
   ]
  },
  {
   "cell_type": "code",
   "execution_count": 38,
   "metadata": {},
   "outputs": [
    {
     "data": {
      "text/plain": [
       "True"
      ]
     },
     "execution_count": 38,
     "metadata": {},
     "output_type": "execute_result"
    }
   ],
   "source": [
    "s.member(3)"
   ]
  },
  {
   "cell_type": "code",
   "execution_count": 39,
   "metadata": {},
   "outputs": [
    {
     "data": {
      "text/plain": [
       "False"
      ]
     },
     "execution_count": 39,
     "metadata": {},
     "output_type": "execute_result"
    }
   ],
   "source": [
    "s.member(2)"
   ]
  },
  {
   "cell_type": "code",
   "execution_count": 40,
   "metadata": {},
   "outputs": [],
   "source": [
    "s.remove(4)"
   ]
  },
  {
   "cell_type": "code",
   "execution_count": 41,
   "metadata": {},
   "outputs": [
    {
     "name": "stdout",
     "output_type": "stream",
     "text": [
      "{3,6}\n"
     ]
    }
   ],
   "source": [
    "s.insert(6)\n",
    "print(s)"
   ]
  },
  {
   "cell_type": "code",
   "execution_count": 42,
   "metadata": {},
   "outputs": [
    {
     "ename": "ValueError",
     "evalue": "4 not found",
     "output_type": "error",
     "traceback": [
      "\u001b[0;31m---------------------------------------------------------------------------\u001b[0m",
      "\u001b[0;31mValueError\u001b[0m                                Traceback (most recent call last)",
      "\u001b[0;32m<ipython-input-35-a69a51f718be>\u001b[0m in \u001b[0;36mremove\u001b[0;34m(self, e)\u001b[0m\n\u001b[1;32m     23\u001b[0m         \u001b[0;32mtry\u001b[0m\u001b[0;34m:\u001b[0m\u001b[0;34m\u001b[0m\u001b[0m\n\u001b[0;32m---> 24\u001b[0;31m             \u001b[0mself\u001b[0m\u001b[0;34m.\u001b[0m\u001b[0mvals\u001b[0m\u001b[0;34m.\u001b[0m\u001b[0mremove\u001b[0m\u001b[0;34m(\u001b[0m\u001b[0me\u001b[0m\u001b[0;34m)\u001b[0m \u001b[0;31m# remove the first instance, which should be the only\u001b[0m\u001b[0;34m\u001b[0m\u001b[0m\n\u001b[0m\u001b[1;32m     25\u001b[0m         \u001b[0;32mexcept\u001b[0m\u001b[0;34m:\u001b[0m\u001b[0;34m\u001b[0m\u001b[0m\n",
      "\u001b[0;31mValueError\u001b[0m: list.remove(x): x not in list",
      "\nDuring handling of the above exception, another exception occurred:\n",
      "\u001b[0;31mValueError\u001b[0m                                Traceback (most recent call last)",
      "\u001b[0;32m<ipython-input-42-758cf2d329e6>\u001b[0m in \u001b[0;36m<module>\u001b[0;34m()\u001b[0m\n\u001b[0;32m----> 1\u001b[0;31m \u001b[0ms\u001b[0m\u001b[0;34m.\u001b[0m\u001b[0mremove\u001b[0m\u001b[0;34m(\u001b[0m\u001b[0;36m4\u001b[0m\u001b[0;34m)\u001b[0m\u001b[0;34m\u001b[0m\u001b[0m\n\u001b[0m",
      "\u001b[0;32m<ipython-input-35-a69a51f718be>\u001b[0m in \u001b[0;36mremove\u001b[0;34m(self, e)\u001b[0m\n\u001b[1;32m     24\u001b[0m             \u001b[0mself\u001b[0m\u001b[0;34m.\u001b[0m\u001b[0mvals\u001b[0m\u001b[0;34m.\u001b[0m\u001b[0mremove\u001b[0m\u001b[0;34m(\u001b[0m\u001b[0me\u001b[0m\u001b[0;34m)\u001b[0m \u001b[0;31m# remove the first instance, which should be the only\u001b[0m\u001b[0;34m\u001b[0m\u001b[0m\n\u001b[1;32m     25\u001b[0m         \u001b[0;32mexcept\u001b[0m\u001b[0;34m:\u001b[0m\u001b[0;34m\u001b[0m\u001b[0m\n\u001b[0;32m---> 26\u001b[0;31m             \u001b[0;32mraise\u001b[0m \u001b[0mValueError\u001b[0m\u001b[0;34m(\u001b[0m\u001b[0mstr\u001b[0m\u001b[0;34m(\u001b[0m\u001b[0me\u001b[0m\u001b[0;34m)\u001b[0m \u001b[0;34m+\u001b[0m \u001b[0;34m' not found'\u001b[0m\u001b[0;34m)\u001b[0m \u001b[0;31m# raise error otherwise\u001b[0m\u001b[0;34m\u001b[0m\u001b[0m\n\u001b[0m\u001b[1;32m     27\u001b[0m \u001b[0;34m\u001b[0m\u001b[0m\n\u001b[1;32m     28\u001b[0m     \u001b[0;32mdef\u001b[0m \u001b[0m__str__\u001b[0m\u001b[0;34m(\u001b[0m\u001b[0mself\u001b[0m\u001b[0;34m)\u001b[0m\u001b[0;34m:\u001b[0m\u001b[0;34m\u001b[0m\u001b[0m\n",
      "\u001b[0;31mValueError\u001b[0m: 4 not found"
     ]
    }
   ],
   "source": [
    "s.remove(4)"
   ]
  },
  {
   "cell_type": "code",
   "execution_count": 43,
   "metadata": {},
   "outputs": [],
   "source": [
    "class Coordinate(object):\n",
    "    def __init__(self, x, y):\n",
    "        self.x = x\n",
    "        self.y = y\n",
    "\n",
    "    def getX(self):\n",
    "        # Getter method for a Coordinate object's x coordinate.\n",
    "        # Getter methods are better practice than just accessing an attribute directly\n",
    "        return self.x\n",
    "\n",
    "    def getY(self):\n",
    "        # Getter method for a Coordinate object's y coordinate\n",
    "        return self.y\n",
    "\n",
    "    def __str__(self):\n",
    "        return '<' + str(self.getX()) + ',' + str(self.getY()) + '>'\n",
    "\n",
    "    def __eq__(self, other):\n",
    "        if (self.x == other.x) and (self.y == other.y):\n",
    "            return True\n",
    "        else:\n",
    "            return False\n",
    "\n",
    "    def __repr__(self): # print(repr(instanceName)) returns this which could be used as a replacement for parsable Python\n",
    "        return 'Coordinate(%i, %i)'%(self.getX(), self.getY())"
   ]
  },
  {
   "cell_type": "code",
   "execution_count": 44,
   "metadata": {},
   "outputs": [
    {
     "name": "stdout",
     "output_type": "stream",
     "text": [
      "2\n",
      "{5}\n",
      "{}\n"
     ]
    }
   ],
   "source": [
    "class intSet(object):\n",
    "    \"\"\"An intSet is a set of integers\n",
    "    The value is represented by a list of ints, self.vals.\n",
    "    Each int in the set occurs in self.vals exactly once.\"\"\"\n",
    "\n",
    "    def __init__(self):\n",
    "        \"\"\"Create an empty set of integers\"\"\"\n",
    "        self.vals = []\n",
    "\n",
    "    def insert(self, e):\n",
    "        \"\"\"Assumes e is an integer and inserts e into self\"\"\"\n",
    "        if not e in self.vals:\n",
    "            self.vals.append(e)\n",
    "\n",
    "    def member(self, e):\n",
    "        \"\"\"Assumes e is an integer\n",
    "           Returns True if e is in self, and False otherwise\"\"\"\n",
    "        return e in self.vals\n",
    "\n",
    "    def remove(self, e):\n",
    "        \"\"\"Assumes e is an integer and removes e from self\n",
    "           Raises ValueError if e is not in self\"\"\"\n",
    "        try:\n",
    "            self.vals.remove(e)\n",
    "        except:\n",
    "            raise ValueError(str(e) + ' not found')\n",
    "\n",
    "    def intersect(self, other):\n",
    "        self.copy = self.vals[:]\n",
    "        new = intSet()\n",
    "        for x in self.copy:\n",
    "            if other.member(x):\n",
    "                new.insert(x)\n",
    "        if len(new) is 0:\n",
    "            return {}\n",
    "        return new\n",
    "\n",
    "    def __str__(self):\n",
    "        \"\"\"Returns a string representation of self\"\"\"\n",
    "        self.vals.sort()\n",
    "        return '{' + ','.join([str(e) for e in self.vals]) + '}'\n",
    "\n",
    "    def __len__(self):\n",
    "        return len(self.vals)\n",
    "\n",
    "i = intSet()\n",
    "i.insert(3)\n",
    "i.insert(5)\n",
    "print(len(i))\n",
    "j = intSet()\n",
    "j.insert(5)\n",
    "print(i.intersect(j))\n",
    "k = intSet()\n",
    "k.insert(4)\n",
    "print(i.intersect(k))"
   ]
  },
  {
   "cell_type": "markdown",
   "metadata": {},
   "source": [
    "## Why OOP\n",
    "- bundle together objects that share\n",
    "    - common attributes and\n",
    "    - procedures that operate on those attributes\n",
    "- use abstraction to make a distinction between how to **implement** an object vs how to **use** the object\n",
    "    - methods help to reduce complication of repreated and specific tasks\n",
    "- build layers of object abstractions that inherit behaviors from other classes of obejcts\n",
    "- create own classes of objects on top of Python's basic classes"
   ]
  },
  {
   "cell_type": "markdown",
   "metadata": {},
   "source": [
    "### implementing the class\n",
    "- define the class\n",
    "- define data attributes => what the object is\n",
    "- define methods => how to use the object\n",
    "- class defined generically, use `self` to refer to any instance while defining the class\n",
    "\n",
    "### using the class\n",
    "- creating instances of the class\n",
    "- doing operations with them\n",
    "- instance is one particular object, and thus with possible differing data values\n",
    "- instance has the structure of the class"
   ]
  },
  {
   "cell_type": "code",
   "execution_count": 45,
   "metadata": {},
   "outputs": [],
   "source": [
    "class Animal():\n",
    "    def __init__ (self, age):\n",
    "        self.age = age\n",
    "        self.name = None"
   ]
  },
  {
   "cell_type": "code",
   "execution_count": 46,
   "metadata": {},
   "outputs": [],
   "source": [
    "class Animal(object):\n",
    "    def __init__(self, age):\n",
    "        self.age = age\n",
    "        self.name = None\n",
    "    # getters\n",
    "    def get_age(self):\n",
    "        return self.age\n",
    "    def get_name(self):\n",
    "        return self.name\n",
    "    # setters\n",
    "    def set_age(self, newage):\n",
    "        self.age = newage\n",
    "    def set_name(self, newname=\"\"):\n",
    "        self.name = newname\n",
    "    def __str__(self):\n",
    "        return \"animal:\"+str(self.name)+\":\"+str(self.age)"
   ]
  },
  {
   "cell_type": "code",
   "execution_count": 47,
   "metadata": {},
   "outputs": [
    {
     "name": "stdout",
     "output_type": "stream",
     "text": [
      "animal:Foobie:3\n"
     ]
    }
   ],
   "source": [
    "m = Animal(3)\n",
    "m.set_name('Foobie')\n",
    "print(m)"
   ]
  },
  {
   "cell_type": "code",
   "execution_count": 48,
   "metadata": {},
   "outputs": [
    {
     "data": {
      "text/plain": [
       "3"
      ]
     },
     "execution_count": 48,
     "metadata": {},
     "output_type": "execute_result"
    }
   ],
   "source": [
    "m.get_age()"
   ]
  },
  {
   "cell_type": "code",
   "execution_count": 49,
   "metadata": {},
   "outputs": [
    {
     "data": {
      "text/plain": [
       "'Wombie'"
      ]
     },
     "execution_count": 49,
     "metadata": {},
     "output_type": "execute_result"
    }
   ],
   "source": [
    "m.name = 'Wombie' # this works because Python doesn't use public/private varibables\n",
    "m.name"
   ]
  },
  {
   "cell_type": "markdown",
   "metadata": {},
   "source": [
    "### Information Hiding\n",
    "- author of class definition may change data attritbute variable names\n",
    "- if you are accesssing data atrributes outside the class and the class definition changes,  may get errors\n",
    "- using getters is\n",
    "    - good style, easier to maintain, prevents bugs especially in compiled languages"
   ]
  },
  {
   "cell_type": "markdown",
   "metadata": {},
   "source": [
    "# Hierarchies\n",
    "- Parent class (superclass)\n",
    "- Child class (subclass)\n",
    "    - inherit all data and behaviors of parent unless explicitly overwritten\n",
    "    - add more attributes and functionality"
   ]
  },
  {
   "cell_type": "code",
   "execution_count": 50,
   "metadata": {},
   "outputs": [],
   "source": [
    "class Animal(object):\n",
    "    def __init__(self, age):\n",
    "        self.age = age\n",
    "        self.name = None\n",
    "    # getters\n",
    "    def get_age(self):\n",
    "        return self.age\n",
    "    def get_name(self):\n",
    "        return self.name\n",
    "    # setters\n",
    "    def set_age(self, newage):\n",
    "        self.age = newage\n",
    "    def set_name(self, newname=\"\"):\n",
    "        self.name = newname\n",
    "    def __str__(self):\n",
    "        return \"animal:\"+str(self.name)+\":\"+str(self.age)"
   ]
  },
  {
   "cell_type": "code",
   "execution_count": 51,
   "metadata": {},
   "outputs": [],
   "source": [
    "class Cat(Animal):\n",
    "    # init is not missing, already inherited all attributes from Animal\n",
    "    def speak(self):\n",
    "        print(\"meow\")\n",
    "    def __str__(self): # overwrite print because if I have a cat I want to know it's a cat\n",
    "        return \"cat:\"+str(self.name)+\":\"+str(self.age)\n",
    "\n",
    "class Rabbit(Animal):\n",
    "    def speak(self):\n",
    "        print(\"meep\")\n",
    "    def __str__(self): \n",
    "        return \"rabbit:\"+str(self.name)+\":\"+str(self.age)"
   ]
  },
  {
   "cell_type": "code",
   "execution_count": 52,
   "metadata": {},
   "outputs": [
    {
     "name": "stdout",
     "output_type": "stream",
     "text": [
      "cat:JellyBelly:1\n"
     ]
    }
   ],
   "source": [
    "jelly = Cat(1)\n",
    "jelly.set_name('JellyBelly')\n",
    "print(jelly)"
   ]
  },
  {
   "cell_type": "code",
   "execution_count": 53,
   "metadata": {},
   "outputs": [
    {
     "name": "stdout",
     "output_type": "stream",
     "text": [
      "meow\n"
     ]
    }
   ],
   "source": [
    "jelly.speak()"
   ]
  },
  {
   "cell_type": "markdown",
   "metadata": {},
   "source": [
    "For an instance of a class, first looks for method name in current class definition. If not found, look for method name up the hierarchy. Use first method up the hierarchy found with that method name"
   ]
  },
  {
   "cell_type": "code",
   "execution_count": 54,
   "metadata": {},
   "outputs": [],
   "source": [
    "class Person(Animal):\n",
    "    def __init__(self, name, age):\n",
    "        Animal.__init__(self, age)\n",
    "        Animal.set_name(self, name)\n",
    "        self.friends = []\n",
    "    def get_friends(self):\n",
    "        return self.friends\n",
    "    def add_friend(self, fname):\n",
    "        if fname not in self.friends:\n",
    "            self.friends.append(fname)\n",
    "    def speak(self):\n",
    "        print(\"hello\")\n",
    "    def age_diff(self, other):\n",
    "        # alternate way: diff = self.age - other.age\n",
    "        diff = self.get_age() - other.get_age()\n",
    "        if self.age > other.age:\n",
    "            print(self.name, \"is\", diff, \"years older than\", other.name)\n",
    "        else:\n",
    "            print(self.name, \"is\", -diff, \"years younger than\", other.name)\n",
    "    def __str__(self):\n",
    "        return \"person:\"+str(self.name)+\":\"+str(self.age)"
   ]
  },
  {
   "cell_type": "code",
   "execution_count": 55,
   "metadata": {},
   "outputs": [],
   "source": [
    "eric = Person('Eric', 59)\n",
    "john = Person('John', 75)"
   ]
  },
  {
   "cell_type": "code",
   "execution_count": 56,
   "metadata": {},
   "outputs": [
    {
     "name": "stdout",
     "output_type": "stream",
     "text": [
      "Eric is 16 years younger than John\n"
     ]
    }
   ],
   "source": [
    "eric.age_diff(john)"
   ]
  },
  {
   "cell_type": "code",
   "execution_count": 57,
   "metadata": {},
   "outputs": [
    {
     "name": "stdout",
     "output_type": "stream",
     "text": [
      "John is 16 years older than Eric\n"
     ]
    }
   ],
   "source": [
    "Person.age_diff(john, eric)"
   ]
  },
  {
   "cell_type": "code",
   "execution_count": 58,
   "metadata": {},
   "outputs": [],
   "source": [
    "import random\n",
    "\n",
    "class Student(Person): # inherit Person/Animal attr and methods\n",
    "    def __init__(self, name, age, major=None):  \n",
    "        Person.__init__(self, name, age)\n",
    "        self.major = major#add new attr\n",
    "    def change_major(self, major):\n",
    "        self.major = major\n",
    "    def speak(self):\n",
    "        r = random.random()\n",
    "        if r < 0.25:\n",
    "            print(\"i have homework\")\n",
    "        elif 0.25 <= r < 0.5:\n",
    "            print(\"i need sleep\")\n",
    "        elif 0.5 <= r < 0.75:\n",
    "            print(\"i should eat\")\n",
    "        else:\n",
    "            print(\"i am watching tv\")\n",
    "    def __str__(self):\n",
    "        return \"student:\"+str(self.name)+\":\"+str(self.age)+\":\"+str(self.major)"
   ]
  },
  {
   "cell_type": "code",
   "execution_count": 59,
   "metadata": {},
   "outputs": [],
   "source": [
    "fred = Student('Fred', 18)"
   ]
  },
  {
   "cell_type": "code",
   "execution_count": 60,
   "metadata": {},
   "outputs": [
    {
     "name": "stdout",
     "output_type": "stream",
     "text": [
      "Eric is 41 years older than Fred\n"
     ]
    }
   ],
   "source": [
    "eric.age_diff(fred)"
   ]
  },
  {
   "cell_type": "code",
   "execution_count": 61,
   "metadata": {
    "scrolled": true
   },
   "outputs": [
    {
     "name": "stdout",
     "output_type": "stream",
     "text": [
      "Accio\n",
      "Summoning Charm Accio\n",
      "No description\n",
      "Confundus Charm Confundo\n",
      "Causes the victim to become confused and befuddled.\n"
     ]
    }
   ],
   "source": [
    "class Spell(object):\n",
    "    def __init__(self, incantation, name):\n",
    "        self.name = name\n",
    "        self.incantation = incantation\n",
    "\n",
    "    def __str__(self):\n",
    "        return self.name + ' ' + self.incantation + '\\n' + self.getDescription()\n",
    "              \n",
    "    def getDescription(self):\n",
    "        return 'No description'\n",
    "    \n",
    "    def execute(self):\n",
    "        print(self.incantation)\n",
    "\n",
    "\n",
    "class Accio(Spell):\n",
    "    def __init__(self):\n",
    "        Spell.__init__(self, 'Accio', 'Summoning Charm')\n",
    "\n",
    "class Confundo(Spell):\n",
    "    def __init__(self):\n",
    "        Spell.__init__(self, 'Confundo', 'Confundus Charm')\n",
    "\n",
    "    def getDescription(self):\n",
    "        return 'Causes the victim to become confused and befuddled.'\n",
    "\n",
    "def studySpell(spell):\n",
    "    print(spell)\n",
    "\n",
    "spell = Accio()\n",
    "spell.execute()\n",
    "studySpell(spell)\n",
    "studySpell(Confundo())"
   ]
  },
  {
   "cell_type": "code",
   "execution_count": 62,
   "metadata": {},
   "outputs": [],
   "source": [
    "class A(object):\n",
    "    def __init__(self):\n",
    "        self.a = 1\n",
    "    def x(self):\n",
    "        print(\"A.x\")\n",
    "    def y(self):\n",
    "        print(\"A.y\")\n",
    "    def z(self):\n",
    "        print(\"A.z\")\n",
    "\n",
    "class B(A):\n",
    "    def __init__(self):\n",
    "        A.__init__(self)\n",
    "        self.a = 2\n",
    "        self.b = 3\n",
    "    def y(self):\n",
    "        print(\"B.y\")\n",
    "    def z(self):\n",
    "        print(\"B.z\")\n",
    "\n",
    "class C(object):\n",
    "    def __init__(self):\n",
    "        self.a = 4\n",
    "        self.c = 5\n",
    "    def y(self):\n",
    "        print(\"C.y\")\n",
    "    def z(self):\n",
    "        print(\"C.z\")\n",
    "\n",
    "class D(C, B):\n",
    "    def __init__(self):\n",
    "        C.__init__(self)\n",
    "        B.__init__(self)\n",
    "        self.d = 6\n",
    "    def z(self):\n",
    "        print(\"D.z\")"
   ]
  },
  {
   "cell_type": "markdown",
   "metadata": {},
   "source": [
    "Which __init__ methods are invoked and in which order is determined by the coding of the individual __init__ methods.\n",
    "\n",
    "When resolving a reference to an attribute of an object that's an instance of class D, Python first searches the object's instance variables then uses a simple left-to-right, depth first search through the class hierarchy. In this case that would mean searching the class C, followed the class B and its superclasses (ie, class A, and then any superclasses it may have, et cetera)."
   ]
  },
  {
   "cell_type": "code",
   "execution_count": 63,
   "metadata": {},
   "outputs": [],
   "source": [
    "obj = D()"
   ]
  },
  {
   "cell_type": "code",
   "execution_count": 64,
   "metadata": {},
   "outputs": [
    {
     "name": "stdout",
     "output_type": "stream",
     "text": [
      "a 2\n",
      "b 3\n",
      "c 5\n",
      "d 6\n"
     ]
    }
   ],
   "source": [
    "print('a', obj.a) # C.__init__ is overwritten by B.__init__ since declared second\n",
    "print('b', obj.b)\n",
    "print('c', obj.c)\n",
    "print('d', obj.d)"
   ]
  },
  {
   "cell_type": "markdown",
   "metadata": {},
   "source": [
    "The data attributes were set by initialisation so the last wins.\n",
    "\n",
    "The method attributes were inherited so the first one found stops the search."
   ]
  },
  {
   "cell_type": "code",
   "execution_count": 65,
   "metadata": {},
   "outputs": [
    {
     "name": "stdout",
     "output_type": "stream",
     "text": [
      "A.x\n"
     ]
    }
   ],
   "source": [
    "obj.x()"
   ]
  },
  {
   "cell_type": "code",
   "execution_count": 66,
   "metadata": {},
   "outputs": [
    {
     "name": "stdout",
     "output_type": "stream",
     "text": [
      "C.y\n"
     ]
    }
   ],
   "source": [
    "obj.y()"
   ]
  },
  {
   "cell_type": "code",
   "execution_count": 67,
   "metadata": {},
   "outputs": [
    {
     "name": "stdout",
     "output_type": "stream",
     "text": [
      "D.z\n"
     ]
    }
   ],
   "source": [
    "obj.z()"
   ]
  },
  {
   "cell_type": "markdown",
   "metadata": {},
   "source": [
    "# Instance vs Class Variables\n",
    "- Instance variables are specific to an instnce, created for _each_ instance, belogns to that instance, used the generic variable name self within the class definition\n",
    "- Class variables belong to the class, defined inside class but outside any class methods, outside __init__. shared among all instances/objects of that class"
   ]
  },
  {
   "cell_type": "markdown",
   "metadata": {},
   "source": [
    "\n",
    "- subclasses inherit all data attributes and methods of the parent class"
   ]
  },
  {
   "cell_type": "code",
   "execution_count": 68,
   "metadata": {},
   "outputs": [],
   "source": [
    "class Rabbit(Animal):\n",
    "    tag = 1 # a class variable, a data attribute associated with the class not instances\n",
    "    def __init__(self, age, parent1=None, parent2=None):\n",
    "        Animal.__init__(self, age)\n",
    "        self.parent1 = parent1\n",
    "        self.parent2 = parent2\n",
    "        self.rid = Rabbit.tag # access class variable\n",
    "        Rabbit.tag += 1 # 'tag' used to give unique id to each new Rabbit instances, changes for any references made to Rabbit\n",
    "    # in addition to these Rabbit getter/setters, get_name and get_age are inherited from Animal\n",
    "    def get_rid(self):\n",
    "        return str(self.rid).zfill(3) # 1 ==> 001\n",
    "    def get_parent1(self):\n",
    "        return self.parent1\n",
    "    def get_parent2(self):\n",
    "        return self.parent2\n",
    "    def __add__(self, other): # matin' \n",
    "        return Rabbit(0, self, other)\n",
    "    def __eq__(self,other): # rabbits are equal if they have the same parents\n",
    "        \"\"\"\n",
    "        Parent id's are unique and comparable thanks to class variable\n",
    "        Comparing objects will call eq dunder over and over \n",
    "        \"\"\"\n",
    "        parents_same = self.parent1.rid == other.parent1.rid \\\n",
    "            and self.parent2.rid == other.parent2.rid\n",
    "        parents_opposite = self.parent2.rid == other.parent1.rid \\\n",
    "            and self.parent1.rid == other.parent2.rid\n",
    "        return parents_same or parents_oppsoite"
   ]
  },
  {
   "cell_type": "markdown",
   "metadata": {},
   "source": [
    "- redefine + for Rabbit instances by changing the add dunder method\n",
    "- self as one parent, and the other as the other parent\n",
    "- `__init__` should be changed so that it checks that both parents are rabbits"
   ]
  },
  {
   "cell_type": "code",
   "execution_count": 69,
   "metadata": {},
   "outputs": [
    {
     "name": "stdout",
     "output_type": "stream",
     "text": [
      "animal:Cottontail:1\n"
     ]
    }
   ],
   "source": [
    "murray = Rabbit(2)\n",
    "murray.set_name('Murray')\n",
    "basil = Rabbit(4)\n",
    "basil.set_name('Basil')\n",
    "cotton = Rabbit(1, murray, basil)\n",
    "cotton.set_name('Cottontail')\n",
    "print(cotton)"
   ]
  },
  {
   "cell_type": "code",
   "execution_count": 70,
   "metadata": {},
   "outputs": [
    {
     "name": "stdout",
     "output_type": "stream",
     "text": [
      "animal:Murray:2\n"
     ]
    }
   ],
   "source": [
    "print(cotton.get_parent1())"
   ]
  },
  {
   "cell_type": "code",
   "execution_count": 71,
   "metadata": {},
   "outputs": [
    {
     "name": "stdout",
     "output_type": "stream",
     "text": [
      "animal:Mopsy:0\n",
      "animal:Peter:3\n"
     ]
    }
   ],
   "source": [
    "peter = Rabbit(3)\n",
    "peter.set_name('Peter')\n",
    "hopsy = Rabbit(3)\n",
    "hopsy.set_name('Hopsy')\n",
    "mopsy = peter + hopsy\n",
    "mopsy.set_name('Mopsy')\n",
    "print(mopsy)\n",
    "print(mopsy.get_parent1())"
   ]
  },
  {
   "cell_type": "code",
   "execution_count": 72,
   "metadata": {},
   "outputs": [
    {
     "name": "stdout",
     "output_type": "stream",
     "text": [
      "True\n"
     ]
    }
   ],
   "source": [
    "thumper = peter + hopsy\n",
    "thumper.set_name('Thumper')\n",
    "print(mopsy == thumper)"
   ]
  },
  {
   "cell_type": "markdown",
   "metadata": {},
   "source": [
    "# Building a Class"
   ]
  },
  {
   "cell_type": "code",
   "execution_count": 73,
   "metadata": {},
   "outputs": [],
   "source": [
    "import datetime\n",
    "class Person():\n",
    "    def __init__(self, name):\n",
    "        \"\"\"create a person called name\"\"\"\n",
    "        self.name = name\n",
    "        self.birthday = None\n",
    "        self.lastName = name.split(' ')[-1]\n",
    "        \n",
    "    def getLastName(self):\n",
    "        \"\"\"return self's last name\"\"\"\n",
    "        return self.lastName\n",
    "    \n",
    "    def __str__(self):\n",
    "        \"\"\"return self's name\"\"\"\n",
    "        return self.name\n",
    "    \n",
    "    def setBirthday(self, month, day, year):\n",
    "        \"\"\"sets self's birthday to birthDate\"\"\"\n",
    "        self.birthday = datetime.date(year, month, day)\n",
    "        \n",
    "    def getAge(self):\n",
    "        \"\"\"return self's current age in days\"\"\"\n",
    "        if self.birthday is None:\n",
    "            raise ValueError\n",
    "        return (datetime.date.today() - self.birthday).days\n",
    "    \n",
    "    def __lt__(self, other):\n",
    "        \"\"\"\n",
    "        return True if self' name is lexicographically less than other's name, and False otherwise\n",
    "        \"\"\"\n",
    "        if self.lastName == other.lastName:\n",
    "            return self.name < other.name\n",
    "        return self.lastName < other.lastName\n",
    "    \n",
    "    def __str__(self):\n",
    "        \"\"\"return self's name\"\"\"\n",
    "        return self.name"
   ]
  },
  {
   "cell_type": "code",
   "execution_count": 74,
   "metadata": {},
   "outputs": [],
   "source": [
    "p1 = Person('Mark Zuck')\n",
    "p1.setBirthday(5,14,84)\n",
    "p2 = Person('Drew Houston')\n",
    "p2.setBirthday(3,4,83)\n",
    "p3 = Person('Bill Gates')\n",
    "p3.setBirthday(10,28,55)\n",
    "p4 = Person('Andrew Gates')\n",
    "p5 = Person('Steve Wozniak')\n",
    "\n",
    "personList = [p1, p2, p3, p4, p5]"
   ]
  },
  {
   "cell_type": "code",
   "execution_count": 75,
   "metadata": {},
   "outputs": [
    {
     "name": "stdout",
     "output_type": "stream",
     "text": [
      "Bill Gates\n"
     ]
    }
   ],
   "source": [
    "print(p3)"
   ]
  },
  {
   "cell_type": "code",
   "execution_count": 76,
   "metadata": {},
   "outputs": [
    {
     "name": "stdout",
     "output_type": "stream",
     "text": [
      "Mark Zuck\n",
      "Drew Houston\n",
      "Bill Gates\n",
      "Andrew Gates\n",
      "Steve Wozniak\n"
     ]
    }
   ],
   "source": [
    "for e in personList:\n",
    "    print(e)"
   ]
  },
  {
   "cell_type": "code",
   "execution_count": 77,
   "metadata": {},
   "outputs": [],
   "source": [
    "personList.sort()"
   ]
  },
  {
   "cell_type": "code",
   "execution_count": 78,
   "metadata": {},
   "outputs": [
    {
     "name": "stdout",
     "output_type": "stream",
     "text": [
      "Andrew Gates\n",
      "Bill Gates\n",
      "Drew Houston\n",
      "Steve Wozniak\n",
      "Mark Zuck\n"
     ]
    }
   ],
   "source": [
    "for e in personList:\n",
    "    print(e)"
   ]
  },
  {
   "cell_type": "code",
   "execution_count": 79,
   "metadata": {},
   "outputs": [],
   "source": [
    "class CalPerson(Person):\n",
    "    nextIdNum = 0\n",
    "    def __init__(self, name):\n",
    "        Person.__init__(self, name) # initialize Person attributes\n",
    "        self.idNum = CalPerson.nextIdNum # set instance's attribute from class attribute\n",
    "        CalPerson.nextIdNum += 1 #updating idNumber\n",
    "    def getIdNum(self):\n",
    "        return self.idNum\n",
    "    \n",
    "    def __lt__(self, other):\n",
    "        return self.idNum < other.idNum\n",
    "    \n",
    "    def speak(self, utterance):\n",
    "        return (self.getLastName() + ' says: ' + utterance)"
   ]
  },
  {
   "cell_type": "markdown",
   "metadata": {},
   "source": [
    "nextIdNum is an example of storing info across instances in the class\n",
    "\n",
    "Call Person class' init to create name, birthdate.  When calling for the initialization of the CalPerson procedure, also calls Person's to help set up bindings for the existing methods and attributes"
   ]
  },
  {
   "cell_type": "code",
   "execution_count": 87,
   "metadata": {},
   "outputs": [],
   "source": [
    "m2 = CalPerson('Mark Zuckerberg')\n",
    "m3 = CalPerson('Drew Houston')\n",
    "m2.setBirthday(3,4,83)\n",
    "m1 = CalPerson('Bill Gates')\n",
    "m1.setBirthday(5,14,84)\n",
    "m3.setBirthday(10,28,55)\n",
    "m4 = Person('Travis Kalanik')\n",
    "m5 = Person('Steve Wozniak')"
   ]
  },
  {
   "cell_type": "code",
   "execution_count": 88,
   "metadata": {},
   "outputs": [
    {
     "name": "stdout",
     "output_type": "stream",
     "text": [
      "Drew Houston\n",
      "Houston says: Hellou\n"
     ]
    }
   ],
   "source": [
    "print(m3)\n",
    "print(m3.speak('Hellou'))"
   ]
  },
  {
   "cell_type": "code",
   "execution_count": 89,
   "metadata": {},
   "outputs": [
    {
     "name": "stdout",
     "output_type": "stream",
     "text": [
      "Bill Gates\n",
      "Mark Zuckerberg\n",
      "Drew Houston\n"
     ]
    }
   ],
   "source": [
    "cplist = [m1,m2,m3]\n",
    "for i in cplist:\n",
    "    print(i)"
   ]
  },
  {
   "cell_type": "code",
   "execution_count": 90,
   "metadata": {
    "scrolled": true
   },
   "outputs": [
    {
     "name": "stdout",
     "output_type": "stream",
     "text": [
      "Mark Zuckerberg\n",
      "Drew Houston\n",
      "Bill Gates\n"
     ]
    }
   ],
   "source": [
    "cplist.sort()\n",
    "for i in cplist:\n",
    "    print(i)"
   ]
  },
  {
   "cell_type": "code",
   "execution_count": 91,
   "metadata": {},
   "outputs": [],
   "source": [
    "p1 = CalPerson('Eric')\n",
    "p2 = CalPerson('John Guttag')\n",
    "p3 = CalPerson('John Smith')\n",
    "p4 = Person('John')"
   ]
  },
  {
   "cell_type": "code",
   "execution_count": 92,
   "metadata": {},
   "outputs": [
    {
     "data": {
      "text/plain": [
       "True"
      ]
     },
     "execution_count": 92,
     "metadata": {},
     "output_type": "execute_result"
    }
   ],
   "source": [
    "p1 < p2"
   ]
  },
  {
   "cell_type": "code",
   "execution_count": 93,
   "metadata": {},
   "outputs": [
    {
     "ename": "AttributeError",
     "evalue": "'Person' object has no attribute 'idNum'",
     "output_type": "error",
     "traceback": [
      "\u001b[0;31m---------------------------------------------------------------------------\u001b[0m",
      "\u001b[0;31mAttributeError\u001b[0m                            Traceback (most recent call last)",
      "\u001b[0;32m<ipython-input-93-20a2383c81c5>\u001b[0m in \u001b[0;36m<module>\u001b[0;34m()\u001b[0m\n\u001b[0;32m----> 1\u001b[0;31m \u001b[0mp1\u001b[0m \u001b[0;34m<\u001b[0m \u001b[0mp4\u001b[0m\u001b[0;34m\u001b[0m\u001b[0m\n\u001b[0m",
      "\u001b[0;32m<ipython-input-79-0c338d3f402f>\u001b[0m in \u001b[0;36m__lt__\u001b[0;34m(self, other)\u001b[0m\n\u001b[1;32m      9\u001b[0m \u001b[0;34m\u001b[0m\u001b[0m\n\u001b[1;32m     10\u001b[0m     \u001b[0;32mdef\u001b[0m \u001b[0m__lt__\u001b[0m\u001b[0;34m(\u001b[0m\u001b[0mself\u001b[0m\u001b[0;34m,\u001b[0m \u001b[0mother\u001b[0m\u001b[0;34m)\u001b[0m\u001b[0;34m:\u001b[0m\u001b[0;34m\u001b[0m\u001b[0m\n\u001b[0;32m---> 11\u001b[0;31m         \u001b[0;32mreturn\u001b[0m \u001b[0mself\u001b[0m\u001b[0;34m.\u001b[0m\u001b[0midNum\u001b[0m \u001b[0;34m<\u001b[0m \u001b[0mother\u001b[0m\u001b[0;34m.\u001b[0m\u001b[0midNum\u001b[0m\u001b[0;34m\u001b[0m\u001b[0m\n\u001b[0m\u001b[1;32m     12\u001b[0m \u001b[0;34m\u001b[0m\u001b[0m\n\u001b[1;32m     13\u001b[0m     \u001b[0;32mdef\u001b[0m \u001b[0mspeak\u001b[0m\u001b[0;34m(\u001b[0m\u001b[0mself\u001b[0m\u001b[0;34m,\u001b[0m \u001b[0mutterance\u001b[0m\u001b[0;34m)\u001b[0m\u001b[0;34m:\u001b[0m\u001b[0;34m\u001b[0m\u001b[0m\n",
      "\u001b[0;31mAttributeError\u001b[0m: 'Person' object has no attribute 'idNum'"
     ]
    }
   ],
   "source": [
    "p1 < p4"
   ]
  },
  {
   "cell_type": "code",
   "execution_count": 94,
   "metadata": {},
   "outputs": [
    {
     "data": {
      "text/plain": [
       "False"
      ]
     },
     "execution_count": 94,
     "metadata": {},
     "output_type": "execute_result"
    }
   ],
   "source": [
    "p4 < p1"
   ]
  },
  {
   "cell_type": "markdown",
   "metadata": {},
   "source": [
    "### Why does it work for `p4 < p1` and not `p1 < p4`?\n",
    "- CalPerson has its own `__lt__`, less than method\n",
    "- That method shadows the Person method.  Since p1 was first, it saw the CalPerson `__lt__` first and not the Person version\n",
    "- `p1 < p2` is converted into `p1.__lt__(p2)` whcih applied the method associated with the type of p1.\n",
    "- `p4 < p1` is equivalent to `p4.__lt__(p4)` so compares using the Person method that compares based on name\n",
    "- `p1 < p4` is equivalent to `p1.__lt__(p4)` which means that it uses the `__lt__` associated with p1, and so there is an attribute error since Person instances do not have an IDNum"
   ]
  },
  {
   "cell_type": "code",
   "execution_count": 95,
   "metadata": {},
   "outputs": [],
   "source": [
    "class Undergrad(CalPerson):\n",
    "    def __init__(self, name, classYear):\n",
    "        CalPerson.__init__(self, name)\n",
    "        self.year = classYear\n",
    "    def getClass(self):\n",
    "        return self.year\n",
    "    def speak(self, utterance): # use inherited CP but add to it\n",
    "        return CalPerson.speak(self, 'Dude, ' + utterance)\n",
    "    \n",
    "class Grad(CalPerson):\n",
    "    pass\n",
    "\n",
    "def isStudent(obj):\n",
    "    '''\n",
    "    Test for superclass\n",
    "    Checks for instances of subclasses\n",
    "    '''\n",
    "    return isinstance(obj, Undergrad) or isinstance(obj, Grad)"
   ]
  },
  {
   "cell_type": "code",
   "execution_count": 96,
   "metadata": {},
   "outputs": [],
   "source": [
    "s1 = Undergrad('Matt Damon', 2017)\n",
    "s2 = Undergrad('Ben Affleck', 2017)\n",
    "s3 = Undergrad('Arash Ferdowsi', 2018)\n",
    "s4 = Grad('Drew Houston')\n",
    "s5 = Undergrad('Mark Zuckerberg', 2019)\n",
    "p1 = CalPerson('Eric Grimson')\n",
    "p2 = CalPerson('John Guttag')\n",
    "p3 = CalPerson('Ana Bell')\n",
    "q1 = Person('Bill Gates')\n",
    "q2 = Person('Travis Kalanick')\n",
    "studentList = [s1, s2, s3, s4]"
   ]
  },
  {
   "cell_type": "code",
   "execution_count": 97,
   "metadata": {},
   "outputs": [
    {
     "name": "stdout",
     "output_type": "stream",
     "text": [
      "2017\n"
     ]
    }
   ],
   "source": [
    "print(s1.getClass())"
   ]
  },
  {
   "cell_type": "code",
   "execution_count": 98,
   "metadata": {},
   "outputs": [
    {
     "name": "stdout",
     "output_type": "stream",
     "text": [
      "Damon says: Dude, where is the quiz?\n"
     ]
    }
   ],
   "source": [
    "# Damon says came from CalPerson speak\n",
    "# Dude came from the additions made to undergrad\n",
    "print( s1.speak('where is the quiz?') )"
   ]
  },
  {
   "cell_type": "markdown",
   "metadata": {},
   "source": [
    "# Cleaning up Hierarchy\n",
    "- now add a transfer student\n",
    "- instead of adding another or to the `isStudent` method, we realize that al of these classes are 'students'\n",
    "\n",
    "create a class that captures common behaviors of subclasses, concentrate methods in one place, think about subclasses as a coherent whole\n"
   ]
  },
  {
   "cell_type": "code",
   "execution_count": 99,
   "metadata": {},
   "outputs": [],
   "source": [
    "class Student(CalPerson):\n",
    "    pass\n",
    "\n",
    "### all 'student' classes now inherit from the new Student superclass\n",
    "# the pass allows Student to be a class that cleans up the hierarchy\n",
    "# isStudent is now much simpler\n",
    "\n",
    "class Undergrad(Student): \n",
    "    def __init__(self, name, classYear):\n",
    "        CalPerson.__init__(self, name)\n",
    "        self.year = classYear\n",
    "    def getClass(self):\n",
    "        return self.year\n",
    "    def speak(self, utterance): # use inherited CP but add to it\n",
    "        return CalPerson.speak(self, 'Dude, ' + utterance)\n",
    "    \n",
    "class Grad(Student):\n",
    "    pass\n",
    "class TransferStudent(Student):\n",
    "    pass\n",
    "\n",
    "def isStudent(obj):\n",
    "    return isinstance(obj, Student)"
   ]
  },
  {
   "cell_type": "markdown",
   "metadata": {},
   "source": [
    "## Substitution Principle\n",
    "- important behaviors of superclass should be supported by all subclasses"
   ]
  },
  {
   "cell_type": "code",
   "execution_count": null,
   "metadata": {},
   "outputs": [],
   "source": []
  },
  {
   "cell_type": "markdown",
   "metadata": {},
   "source": [
    "## Using inherited methods\n",
    "- add a Professor class of objects\n",
    "    - also a type of CalPerson\n",
    "    - but has different behaviors\n",
    "- an example of leveraging methods from other classes in the hierarchy"
   ]
  },
  {
   "cell_type": "code",
   "execution_count": 100,
   "metadata": {},
   "outputs": [],
   "source": [
    "class Professor(CalPerson):\n",
    "    def __init__(self, name, department):\n",
    "        CalPerson.__init__(self, name)\n",
    "        self.department = department\n",
    "    def speak(self, utterance):\n",
    "        '''\n",
    "        shadows CalPerson speak method\n",
    "        '''\n",
    "        new = 'In course ' + self.department + ' we say '\n",
    "        return CalPerson.speak(self, new + utterance)\n",
    "    def lecture(self, topic):\n",
    "        '''\n",
    "        uses own speak method\n",
    "        '''\n",
    "        return self.speak('it is obvious that ' + topic)"
   ]
  },
  {
   "cell_type": "code",
   "execution_count": 101,
   "metadata": {},
   "outputs": [],
   "source": [
    "faculty = Professor('Dr. Cat', 'Maths')"
   ]
  },
  {
   "cell_type": "code",
   "execution_count": 102,
   "metadata": {},
   "outputs": [
    {
     "data": {
      "text/plain": [
       "'Cat says: In course Maths we say miaou'"
      ]
     },
     "execution_count": 102,
     "metadata": {},
     "output_type": "execute_result"
    }
   ],
   "source": [
    "faculty.speak('miaou')"
   ]
  },
  {
   "cell_type": "code",
   "execution_count": 103,
   "metadata": {},
   "outputs": [
    {
     "data": {
      "text/plain": [
       "'Cat says: In course Maths we say it is obvious that miaou'"
      ]
     },
     "execution_count": 103,
     "metadata": {},
     "output_type": "execute_result"
    }
   ],
   "source": [
    "faculty.lecture('miaou')"
   ]
  },
  {
   "cell_type": "markdown",
   "metadata": {},
   "source": [
    "### modularity helps\n",
    "- by isolating methods in classe, make it easier to change behaviors\n",
    "    - by changing base behavior of CalPerson class, that will be inherited by all other subclasses of CalPerson\n",
    "    "
   ]
  },
  {
   "cell_type": "code",
   "execution_count": 109,
   "metadata": {},
   "outputs": [],
   "source": [
    "class Grades():\n",
    "    '''mapping froms students to list of grades'''\n",
    "    def __init__(self):\n",
    "        '''Create empty gradebook'''\n",
    "        self.students = [] # list of Student objects\n",
    "        self.grades = {} # maps idNum -> list of grades\n",
    "        self.isSorted = True # true if self.students is sorted\n",
    "        \n",
    "    def addStudent(self, student):\n",
    "        '''\n",
    "        Assumes: student is of type Student\n",
    "        Add student to the grade book\n",
    "        '''\n",
    "        if student in self.students:\n",
    "            raise ValueError('Duplicate student')\n",
    "        self.students.append(student)\n",
    "        self.grades[student.getIdNum()] = []\n",
    "        self.isSorted = False\n",
    "    def addGrade(self, student, grade):\n",
    "        '''\n",
    "        Assumes: grade is a float\n",
    "        Add grade to the list of grades for student\n",
    "        grades[s.getidnum()]: index into dict using idNum, returns a list of grades\n",
    "        .append(grade): add to list; mutates existing list\n",
    "        '''\n",
    "        try:\n",
    "            self.grades[student.getIdNum()].append(grade)\n",
    "        except KeyError:\n",
    "            raise ValueError('Student not in grade book')\n",
    "    def getGrades(self, student):\n",
    "        '''Return a list of grades for student'''\n",
    "        try:\n",
    "            return self.grades[student.getIdNum()][:] # return copy, safer\n",
    "        except KeyError:\n",
    "            raise ValueError('Student on in grade book')\n",
    "    def allStudents(self):\n",
    "        '''Return a list of the students in the grade book'''\n",
    "        if not self.isSorted:\n",
    "            self.students.sort()\n",
    "            self.isSorted = True\n",
    "        return self.students[:]"
   ]
  },
  {
   "cell_type": "code",
   "execution_count": 110,
   "metadata": {},
   "outputs": [],
   "source": [
    "def gradeReport(course):\n",
    "    '''Assumes: course is of type grades'''\n",
    "    report = []\n",
    "    for s in course.allStudents():\n",
    "        tot = 0.0\n",
    "        numGrades = 0\n",
    "        for g in course.getGrades(s):\n",
    "            tot += g\n",
    "            numGrades += 1\n",
    "        try:\n",
    "            average = tot / numGrades\n",
    "            report.append(str(s) + '\\'s mean grade is ' + str(average))\n",
    "        except ZeroDivisionError:\n",
    "            report.append(str(s) + ' has no grades')\n",
    "    return '\\n'.join(report)"
   ]
  },
  {
   "cell_type": "code",
   "execution_count": 114,
   "metadata": {},
   "outputs": [],
   "source": [
    "ug1 = Undergrad('Matt Damon', 2018)\n",
    "ug2 = Undergrad('Ben Affleck', 2019)\n",
    "ug3 = Undergrad('Drew Houston', 2017)\n",
    "ug4 = Undergrad('Mark Zuckerberg', 2017)\n",
    "g1 = Grad('Bill Gates')\n",
    "g2 = Grad('Steve Wozniak')\n",
    "\n",
    "six00 = Grades()\n",
    "six00.addStudent(g1)\n",
    "six00.addStudent(ug2)\n",
    "six00.addStudent(ug1)\n",
    "six00.addStudent(g2)\n",
    "six00.addStudent(ug4)\n",
    "six00.addStudent(ug3)\n",
    "\n",
    "six00.addGrade(g1, 100)\n",
    "six00.addGrade(g2, 25)\n",
    "six00.addGrade(ug1, 95)\n",
    "six00.addGrade(ug2, 85)\n",
    "six00.addGrade(ug3, 75)"
   ]
  },
  {
   "cell_type": "code",
   "execution_count": 115,
   "metadata": {},
   "outputs": [
    {
     "name": "stdout",
     "output_type": "stream",
     "text": [
      "Matt Damon's mean grade is 95.0\n",
      "Ben Affleck's mean grade is 85.0\n",
      "Drew Houston's mean grade is 75.0\n",
      "Mark Zuckerberg has no grades\n",
      "Bill Gates's mean grade is 100.0\n",
      "Steve Wozniak's mean grade is 25.0\n"
     ]
    }
   ],
   "source": [
    "print(gradeReport(six00))"
   ]
  },
  {
   "cell_type": "code",
   "execution_count": 116,
   "metadata": {},
   "outputs": [
    {
     "name": "stdout",
     "output_type": "stream",
     "text": [
      "Matt Damon's mean grade is 87.5\n",
      "Ben Affleck's mean grade is 80.0\n",
      "Drew Houston's mean grade is 75.0\n",
      "Mark Zuckerberg has no grades\n",
      "Bill Gates's mean grade is 95.0\n",
      "Steve Wozniak's mean grade is 35.0\n"
     ]
    }
   ],
   "source": [
    "six00.addGrade(g1, 90)\n",
    "six00.addGrade(g2, 45)\n",
    "six00.addGrade(ug1, 80)\n",
    "six00.addGrade(ug2, 75)\n",
    "print(gradeReport(six00))"
   ]
  },
  {
   "cell_type": "code",
   "execution_count": 117,
   "metadata": {},
   "outputs": [
    {
     "name": "stdout",
     "output_type": "stream",
     "text": [
      "Matt Damon\n",
      "Ben Affleck\n",
      "Drew Houston\n",
      "Mark Zuckerberg\n",
      "Bill Gates\n",
      "Steve Wozniak\n"
     ]
    }
   ],
   "source": [
    "for s in six00.allStudents(): # already sorted!\n",
    "    print(s)"
   ]
  },
  {
   "cell_type": "markdown",
   "metadata": {},
   "source": [
    "Why not do `for s in six00.students`?\n",
    "- violates the data hiding aspect of an object, and exposes internal representation\n",
    "- if i were to change how I want to represent a grade book, I should only need to chagne the methods within that object, not he external prcedures that use it"
   ]
  },
  {
   "cell_type": "markdown",
   "metadata": {},
   "source": [
    "## Generators\n",
    "- However Grades is inefficient because it copies and returns the whole list\n",
    "- Solve this problem with _Generators_"
   ]
  },
  {
   "cell_type": "markdown",
   "metadata": {},
   "source": [
    "- any procedure or method with a `yield` statement is called a generator\n",
    "- generators have a next() method which starts/resumes execution of the procedure.\n",
    "    - inside of generator:\n",
    "        - `yield` suspends execution and returns a value\n",
    "        - returning from a generator raises a `StopIteration` exception"
   ]
  },
  {
   "cell_type": "code",
   "execution_count": 119,
   "metadata": {},
   "outputs": [],
   "source": [
    "def genTest():\n",
    "    yield 1\n",
    "    yield 2"
   ]
  },
  {
   "cell_type": "markdown",
   "metadata": {},
   "source": [
    "- Execution will proceed in body of foo, until reaching first yield statement\n",
    "    - then return value associated with that stement\n",
    "- then resume at point where stopped until next yield statement\n",
    "\n",
    "\n"
   ]
  },
  {
   "cell_type": "code",
   "execution_count": 120,
   "metadata": {},
   "outputs": [
    {
     "data": {
      "text/plain": [
       "1"
      ]
     },
     "execution_count": 120,
     "metadata": {},
     "output_type": "execute_result"
    }
   ],
   "source": [
    "foo = genTest()\n",
    "foo.__next__()"
   ]
  },
  {
   "cell_type": "code",
   "execution_count": 121,
   "metadata": {},
   "outputs": [
    {
     "data": {
      "text/plain": [
       "2"
      ]
     },
     "execution_count": 121,
     "metadata": {},
     "output_type": "execute_result"
    }
   ],
   "source": [
    "foo.__next__()"
   ]
  },
  {
   "cell_type": "code",
   "execution_count": 122,
   "metadata": {},
   "outputs": [
    {
     "ename": "StopIteration",
     "evalue": "",
     "output_type": "error",
     "traceback": [
      "\u001b[0;31m---------------------------------------------------------------------------\u001b[0m",
      "\u001b[0;31mStopIteration\u001b[0m                             Traceback (most recent call last)",
      "\u001b[0;32m<ipython-input-122-5d994c17f9ca>\u001b[0m in \u001b[0;36m<module>\u001b[0;34m()\u001b[0m\n\u001b[0;32m----> 1\u001b[0;31m \u001b[0mfoo\u001b[0m\u001b[0;34m.\u001b[0m\u001b[0m__next__\u001b[0m\u001b[0;34m(\u001b[0m\u001b[0;34m)\u001b[0m\u001b[0;34m\u001b[0m\u001b[0m\n\u001b[0m",
      "\u001b[0;31mStopIteration\u001b[0m: "
     ]
    }
   ],
   "source": [
    "foo.__next__()"
   ]
  },
  {
   "cell_type": "markdown",
   "metadata": {},
   "source": [
    "Can use a generator inside a looping structure, as it will continue until it gets a `StopIteration` exceptio"
   ]
  },
  {
   "cell_type": "code",
   "execution_count": 123,
   "metadata": {},
   "outputs": [
    {
     "name": "stdout",
     "output_type": "stream",
     "text": [
      "1\n",
      "2\n"
     ]
    }
   ],
   "source": [
    "for n in genTest():\n",
    "    print(n)"
   ]
  },
  {
   "cell_type": "code",
   "execution_count": 134,
   "metadata": {},
   "outputs": [],
   "source": [
    "def genFib():\n",
    "    fibn_1 = 1 #fib(n-1)\n",
    "    fibn_2 = 0 #fib(n-2)\n",
    "    while True:\n",
    "        # fib(n) = fib(n-1) + fib(n-2)\n",
    "        next = fibn_1 + fibn_2\n",
    "        yield next\n",
    "        fibn_2 = fibn_1\n",
    "        fibn_1 = next\n",
    "fib = genFib()"
   ]
  },
  {
   "cell_type": "markdown",
   "metadata": {},
   "source": [
    "## Why generators?\n",
    "- generators separate the concept of computing a very long sequence of objects from the actual process of computing them explicitly\n",
    "- allows one to generate each new object as needed as part of another computation (rather than computing a very long sequence, only to throw most of it away while you do something on an element, then repeating the process)\n",
    "- have already seen this idea in range"
   ]
  },
  {
   "cell_type": "code",
   "execution_count": 139,
   "metadata": {},
   "outputs": [],
   "source": [
    "class Grades(): # UPDATED\n",
    "    '''mapping froms students to list of grades'''\n",
    "    def __init__(self):\n",
    "        '''Create empty gradebook'''\n",
    "        self.students = [] # list of Student objects\n",
    "        self.grades = {} # maps idNum -> list of grades\n",
    "        self.isSorted = True # true if self.students is sorted\n",
    "        \n",
    "    def addStudent(self, student):\n",
    "        '''\n",
    "        Assumes: student is of type Student\n",
    "        Add student to the grade book\n",
    "        '''\n",
    "        if student in self.students:\n",
    "            raise ValueError('Duplicate student')\n",
    "        self.students.append(student)\n",
    "        self.grades[student.getIdNum()] = []\n",
    "        self.isSorted = False\n",
    "    def addGrade(self, student, grade):\n",
    "        '''\n",
    "        Assumes: grade is a float\n",
    "        Add grade to the list of grades for student\n",
    "        grades[s.getidnum()]: index into dict using idNum, returns a list of grades\n",
    "        .append(grade): add to list; mutates existing list\n",
    "        '''\n",
    "        try:\n",
    "            self.grades[student.getIdNum()].append(grade)\n",
    "        except KeyError:\n",
    "            raise ValueError('Student not in grade book')\n",
    "    def getGrades(self, student):\n",
    "        '''Return a list of grades for student'''\n",
    "        try:\n",
    "            return self.grades[student.getIdNum()][:] # return copy, safer\n",
    "        except KeyError:\n",
    "            raise ValueError('Student on in grade book')\n",
    "    def allStudents(self):\n",
    "        '''Return a list of the students in the grade book'''\n",
    "        if not self.isSorted:\n",
    "            self.students.sort()\n",
    "            self.isSorted = True\n",
    "        for s in self.students:\n",
    "            yield s"
   ]
  },
  {
   "cell_type": "code",
   "execution_count": null,
   "metadata": {},
   "outputs": [],
   "source": []
  }
 ],
 "metadata": {
  "kernelspec": {
   "display_name": "Python 3",
   "language": "python",
   "name": "python3"
  },
  "language_info": {
   "codemirror_mode": {
    "name": "ipython",
    "version": 3
   },
   "file_extension": ".py",
   "mimetype": "text/x-python",
   "name": "python",
   "nbconvert_exporter": "python",
   "pygments_lexer": "ipython3",
   "version": "3.6.5"
  }
 },
 "nbformat": 4,
 "nbformat_minor": 2
}
