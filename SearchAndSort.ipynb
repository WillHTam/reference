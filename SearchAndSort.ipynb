{
 "cells": [
  {
   "cell_type": "markdown",
   "metadata": {},
   "source": [
    "# Search and Sort Algorithms\n",
    "- search algorithm\n",
    "    - method for finding an item or group of items with specific properties within a collection of items\n",
    "  - collection could be implicit\n",
    "      - find square root with search\n",
    "          - exhaustive enumeration\n",
    "          - bisection search\n",
    "          - Newton-Raphson\n",
    "  - collection could be explicit\n",
    "      - is a student record in a stored collection of data?"
   ]
  },
  {
   "cell_type": "markdown",
   "metadata": {},
   "source": [
    "### searching algorithms\n",
    "- linear search\n",
    "    - brute force search\n",
    "    - list does not have to be sorted\n",
    "- bisection search\n",
    "    - list must be sorted\n",
    "    "
   ]
  },
  {
   "cell_type": "code",
   "execution_count": 1,
   "metadata": {},
   "outputs": [],
   "source": [
    "def linear_search(L, e):\n",
    "    found = False\n",
    "    for i in range(len(L)):\n",
    "        if e == L[i]:\n",
    "            found = True # could speed things up by returning True, but that wouldn't affect worst case\n",
    "    return found"
   ]
  },
  {
   "cell_type": "markdown",
   "metadata": {},
   "source": [
    "- O(len(L)) for the loop * O(1) to test if e == L[i] <br/>\n",
    "- overall complexity is O(n) - where n is len(L)\n",
    "    - assumes we retrieve element from list in constant time"
   ]
  },
  {
   "cell_type": "markdown",
   "metadata": {},
   "source": [
    "- Constant time list access\n",
    "    - if list is all ints\n",
    "         - ith element at base + 4*l\n",
    "         - if each part of the list is allocated a fixed length of say 4 bytes\n",
    "         - then the i-th element can be found by doing base + 4*l\n",
    "         - to go directly \n",
    "    - If list is heterogenous\n",
    "        - indirection\n",
    "        - a linked list, where the list's sections still have allocated fixed lengths, but they contain pointers to the actual data\n",
    "        - then can retrieve the data directly"
   ]
  },
  {
   "cell_type": "code",
   "execution_count": null,
   "metadata": {},
   "outputs": [],
   "source": []
  }
 ],
 "metadata": {
  "kernelspec": {
   "display_name": "Python 3",
   "language": "python",
   "name": "python3"
  },
  "language_info": {
   "codemirror_mode": {
    "name": "ipython",
    "version": 3
   },
   "file_extension": ".py",
   "mimetype": "text/x-python",
   "name": "python",
   "nbconvert_exporter": "python",
   "pygments_lexer": "ipython3",
   "version": "3.6.5"
  }
 },
 "nbformat": 4,
 "nbformat_minor": 2
}
